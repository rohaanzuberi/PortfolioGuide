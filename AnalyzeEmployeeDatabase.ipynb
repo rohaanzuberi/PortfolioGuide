{
 "cells": [
  {
   "cell_type": "markdown",
   "id": "7ab754ce-90b8-4e69-a2b2-32eed1480fc3",
   "metadata": {},
   "source": [
    "# Employee database analysis using MySQL\n",
    "\n",
    "The following publication serves as a project carried out to obtain insights from the employee database using MySQL queries.\n",
    "\n",
    "The database consists of tables with employee information like name, gender, hiring date, DOB and other information such as salary, title and department.\n",
    "\n",
    "Some of the querying skills shown to generate insights are the use of JOINS, AGGREGATE FUNCTIONS, CLAUSES and SUBQUERY.\n",
    "\n",
    "-- Rohaan Zuberi"
   ]
  },
  {
   "cell_type": "markdown",
   "id": "6ec5c517-18ed-42fc-ad42-f2c047f24af2",
   "metadata": {},
   "source": [
    "## Checking the tables"
   ]
  },
  {
   "cell_type": "code",
   "execution_count": null,
   "id": "eb41d674-214b-4323-807c-cc7278dd4327",
   "metadata": {
    "customType": "sql",
    "dataFrameVariableName": "df",
    "initial": false,
    "integrationId": "aee5c210-59ed-4b56-9819-3151be6192e6"
   },
   "outputs": [
    {
     "data": {
      "application/com.datacamp.data-table.v1+json": {
       "is_truncated": false,
       "table": {
        "data": [
         {
          "Tables_in_employees": "departments",
          "index": 0
         },
         {
          "Tables_in_employees": "dept_emp",
          "index": 1
         },
         {
          "Tables_in_employees": "dept_manager",
          "index": 2
         },
         {
          "Tables_in_employees": "employees",
          "index": 3
         },
         {
          "Tables_in_employees": "salaries",
          "index": 4
         },
         {
          "Tables_in_employees": "titles",
          "index": 5
         }
        ],
        "schema": {
         "fields": [
          {
           "name": "index",
           "type": "integer"
          },
          {
           "name": "Tables_in_employees",
           "type": "string"
          }
         ],
         "pandas_version": "0.20.0",
         "primaryKey": [
          "index"
         ]
        }
       },
       "total_rows": 6
      },
      "text/html": [
       "<div>\n",
       "<style scoped>\n",
       "    .dataframe tbody tr th:only-of-type {\n",
       "        vertical-align: middle;\n",
       "    }\n",
       "\n",
       "    .dataframe tbody tr th {\n",
       "        vertical-align: top;\n",
       "    }\n",
       "\n",
       "    .dataframe thead th {\n",
       "        text-align: right;\n",
       "    }\n",
       "</style>\n",
       "<table border=\"1\" class=\"dataframe\">\n",
       "  <thead>\n",
       "    <tr style=\"text-align: right;\">\n",
       "      <th></th>\n",
       "      <th>Tables_in_employees</th>\n",
       "    </tr>\n",
       "  </thead>\n",
       "  <tbody>\n",
       "    <tr>\n",
       "      <th>0</th>\n",
       "      <td>departments</td>\n",
       "    </tr>\n",
       "    <tr>\n",
       "      <th>1</th>\n",
       "      <td>dept_emp</td>\n",
       "    </tr>\n",
       "    <tr>\n",
       "      <th>2</th>\n",
       "      <td>dept_manager</td>\n",
       "    </tr>\n",
       "    <tr>\n",
       "      <th>3</th>\n",
       "      <td>employees</td>\n",
       "    </tr>\n",
       "    <tr>\n",
       "      <th>4</th>\n",
       "      <td>salaries</td>\n",
       "    </tr>\n",
       "    <tr>\n",
       "      <th>5</th>\n",
       "      <td>titles</td>\n",
       "    </tr>\n",
       "  </tbody>\n",
       "</table>\n",
       "</div>"
      ],
      "text/plain": [
       "  Tables_in_employees\n",
       "0         departments\n",
       "1            dept_emp\n",
       "2        dept_manager\n",
       "3           employees\n",
       "4            salaries\n",
       "5              titles"
      ]
     },
     "execution_count": 1,
     "metadata": {},
     "output_type": "execute_result"
    }
   ],
   "source": [
    "SHOW TABLES;"
   ]
  },
  {
   "cell_type": "markdown",
   "id": "b0acb0a4-25c8-4975-a552-09ef5c56e3b0",
   "metadata": {},
   "source": [
    "## Q1. How many departments are there?"
   ]
  },
  {
   "cell_type": "code",
   "execution_count": null,
   "id": "67c16bde-acc2-451d-bdc3-eeafc63ca2c6",
   "metadata": {
    "customType": "sql",
    "dataFrameVariableName": "df",
    "initial": false,
    "integrationId": "aee5c210-59ed-4b56-9819-3151be6192e6"
   },
   "outputs": [
    {
     "data": {
      "application/com.datacamp.data-table.v1+json": {
       "is_truncated": false,
       "table": {
        "data": [
         {
          "dept_name": "Customer Service",
          "dept_no": "d009",
          "index": 0
         },
         {
          "dept_name": "Development",
          "dept_no": "d005",
          "index": 1
         },
         {
          "dept_name": "Finance",
          "dept_no": "d002",
          "index": 2
         },
         {
          "dept_name": "Human Resources",
          "dept_no": "d003",
          "index": 3
         },
         {
          "dept_name": "Marketing",
          "dept_no": "d001",
          "index": 4
         },
         {
          "dept_name": "Production",
          "dept_no": "d004",
          "index": 5
         },
         {
          "dept_name": "Quality Management",
          "dept_no": "d006",
          "index": 6
         },
         {
          "dept_name": "Research",
          "dept_no": "d008",
          "index": 7
         },
         {
          "dept_name": "Sales",
          "dept_no": "d007",
          "index": 8
         }
        ],
        "schema": {
         "fields": [
          {
           "name": "index",
           "type": "integer"
          },
          {
           "name": "dept_no",
           "type": "string"
          },
          {
           "name": "dept_name",
           "type": "string"
          }
         ],
         "pandas_version": "0.20.0",
         "primaryKey": [
          "index"
         ]
        }
       },
       "total_rows": 9
      },
      "text/html": [
       "<div>\n",
       "<style scoped>\n",
       "    .dataframe tbody tr th:only-of-type {\n",
       "        vertical-align: middle;\n",
       "    }\n",
       "\n",
       "    .dataframe tbody tr th {\n",
       "        vertical-align: top;\n",
       "    }\n",
       "\n",
       "    .dataframe thead th {\n",
       "        text-align: right;\n",
       "    }\n",
       "</style>\n",
       "<table border=\"1\" class=\"dataframe\">\n",
       "  <thead>\n",
       "    <tr style=\"text-align: right;\">\n",
       "      <th></th>\n",
       "      <th>dept_no</th>\n",
       "      <th>dept_name</th>\n",
       "    </tr>\n",
       "  </thead>\n",
       "  <tbody>\n",
       "    <tr>\n",
       "      <th>0</th>\n",
       "      <td>d009</td>\n",
       "      <td>Customer Service</td>\n",
       "    </tr>\n",
       "    <tr>\n",
       "      <th>1</th>\n",
       "      <td>d005</td>\n",
       "      <td>Development</td>\n",
       "    </tr>\n",
       "    <tr>\n",
       "      <th>2</th>\n",
       "      <td>d002</td>\n",
       "      <td>Finance</td>\n",
       "    </tr>\n",
       "    <tr>\n",
       "      <th>3</th>\n",
       "      <td>d003</td>\n",
       "      <td>Human Resources</td>\n",
       "    </tr>\n",
       "    <tr>\n",
       "      <th>4</th>\n",
       "      <td>d001</td>\n",
       "      <td>Marketing</td>\n",
       "    </tr>\n",
       "    <tr>\n",
       "      <th>5</th>\n",
       "      <td>d004</td>\n",
       "      <td>Production</td>\n",
       "    </tr>\n",
       "    <tr>\n",
       "      <th>6</th>\n",
       "      <td>d006</td>\n",
       "      <td>Quality Management</td>\n",
       "    </tr>\n",
       "    <tr>\n",
       "      <th>7</th>\n",
       "      <td>d008</td>\n",
       "      <td>Research</td>\n",
       "    </tr>\n",
       "    <tr>\n",
       "      <th>8</th>\n",
       "      <td>d007</td>\n",
       "      <td>Sales</td>\n",
       "    </tr>\n",
       "  </tbody>\n",
       "</table>\n",
       "</div>"
      ],
      "text/plain": [
       "  dept_no           dept_name\n",
       "0    d009    Customer Service\n",
       "1    d005         Development\n",
       "2    d002             Finance\n",
       "3    d003     Human Resources\n",
       "4    d001           Marketing\n",
       "5    d004          Production\n",
       "6    d006  Quality Management\n",
       "7    d008            Research\n",
       "8    d007               Sales"
      ]
     },
     "execution_count": 2,
     "metadata": {},
     "output_type": "execute_result"
    }
   ],
   "source": [
    "/* checking to see the distinct department names */\n",
    "SELECT\n",
    "    DISTINCT *\n",
    "    FROM departments;"
   ]
  },
  {
   "cell_type": "markdown",
   "id": "090c1221-8294-42fe-b51b-cde00b1b27d2",
   "metadata": {},
   "source": [
    "## Q2. How many employees work in each department?"
   ]
  },
  {
   "cell_type": "code",
   "execution_count": null,
   "id": "30ffc227-556f-46b3-ae99-d8449850d59b",
   "metadata": {
    "customType": "sql",
    "dataFrameVariableName": "df",
    "initial": false,
    "integrationId": "aee5c210-59ed-4b56-9819-3151be6192e6"
   },
   "outputs": [
    {
     "data": {
      "application/com.datacamp.data-table.v1+json": {
       "is_truncated": false,
       "table": {
        "data": [
         {
          "Department": "Development",
          "Employees": 85707,
          "index": 0
         },
         {
          "Department": "Production",
          "Employees": 73485,
          "index": 1
         },
         {
          "Department": "Sales",
          "Employees": 52245,
          "index": 2
         },
         {
          "Department": "Customer Service",
          "Employees": 23580,
          "index": 3
         },
         {
          "Department": "Research",
          "Employees": 21126,
          "index": 4
         },
         {
          "Department": "Marketing",
          "Employees": 20211,
          "index": 5
         },
         {
          "Department": "Quality Management",
          "Employees": 20117,
          "index": 6
         },
         {
          "Department": "Human Resources",
          "Employees": 17786,
          "index": 7
         },
         {
          "Department": "Finance",
          "Employees": 17346,
          "index": 8
         }
        ],
        "schema": {
         "fields": [
          {
           "name": "index",
           "type": "integer"
          },
          {
           "name": "Department",
           "type": "string"
          },
          {
           "name": "Employees",
           "type": "integer"
          }
         ],
         "pandas_version": "0.20.0",
         "primaryKey": [
          "index"
         ]
        }
       },
       "total_rows": 9
      },
      "text/html": [
       "<div>\n",
       "<style scoped>\n",
       "    .dataframe tbody tr th:only-of-type {\n",
       "        vertical-align: middle;\n",
       "    }\n",
       "\n",
       "    .dataframe tbody tr th {\n",
       "        vertical-align: top;\n",
       "    }\n",
       "\n",
       "    .dataframe thead th {\n",
       "        text-align: right;\n",
       "    }\n",
       "</style>\n",
       "<table border=\"1\" class=\"dataframe\">\n",
       "  <thead>\n",
       "    <tr style=\"text-align: right;\">\n",
       "      <th></th>\n",
       "      <th>Department</th>\n",
       "      <th>Employees</th>\n",
       "    </tr>\n",
       "  </thead>\n",
       "  <tbody>\n",
       "    <tr>\n",
       "      <th>0</th>\n",
       "      <td>Development</td>\n",
       "      <td>85707</td>\n",
       "    </tr>\n",
       "    <tr>\n",
       "      <th>1</th>\n",
       "      <td>Production</td>\n",
       "      <td>73485</td>\n",
       "    </tr>\n",
       "    <tr>\n",
       "      <th>2</th>\n",
       "      <td>Sales</td>\n",
       "      <td>52245</td>\n",
       "    </tr>\n",
       "    <tr>\n",
       "      <th>3</th>\n",
       "      <td>Customer Service</td>\n",
       "      <td>23580</td>\n",
       "    </tr>\n",
       "    <tr>\n",
       "      <th>4</th>\n",
       "      <td>Research</td>\n",
       "      <td>21126</td>\n",
       "    </tr>\n",
       "    <tr>\n",
       "      <th>5</th>\n",
       "      <td>Marketing</td>\n",
       "      <td>20211</td>\n",
       "    </tr>\n",
       "    <tr>\n",
       "      <th>6</th>\n",
       "      <td>Quality Management</td>\n",
       "      <td>20117</td>\n",
       "    </tr>\n",
       "    <tr>\n",
       "      <th>7</th>\n",
       "      <td>Human Resources</td>\n",
       "      <td>17786</td>\n",
       "    </tr>\n",
       "    <tr>\n",
       "      <th>8</th>\n",
       "      <td>Finance</td>\n",
       "      <td>17346</td>\n",
       "    </tr>\n",
       "  </tbody>\n",
       "</table>\n",
       "</div>"
      ],
      "text/plain": [
       "           Department  Employees\n",
       "0         Development      85707\n",
       "1          Production      73485\n",
       "2               Sales      52245\n",
       "3    Customer Service      23580\n",
       "4            Research      21126\n",
       "5           Marketing      20211\n",
       "6  Quality Management      20117\n",
       "7     Human Resources      17786\n",
       "8             Finance      17346"
      ]
     },
     "execution_count": 3,
     "metadata": {},
     "output_type": "execute_result"
    }
   ],
   "source": [
    "/* Joining DEPARTMENTS and DEPT_EMP tables to identify how many employees are working in each department */\n",
    "SELECT\n",
    "    dept_name AS Department, COUNT(emp_no) AS Employees\n",
    "    FROM departments\n",
    "    INNER JOIN dept_emp\n",
    "    ON departments.dept_no = dept_emp.dept_no\n",
    "    GROUP BY Department\n",
    "    ORDER BY Employees DESC;"
   ]
  },
  {
   "cell_type": "markdown",
   "id": "1c373ad3-7ca3-4579-8a0a-578d419c20ee",
   "metadata": {},
   "source": [
    "## Q3. What is the gender profile of employees within the company?"
   ]
  },
  {
   "cell_type": "code",
   "execution_count": null,
   "id": "25751fad-7861-494b-9a7b-da82dcf699e8",
   "metadata": {
    "customType": "sql",
    "dataFrameVariableName": "df",
    "initial": false,
    "integrationId": "aee5c210-59ed-4b56-9819-3151be6192e6"
   },
   "outputs": [
    {
     "data": {
      "application/com.datacamp.data-table.v1+json": {
       "is_truncated": false,
       "table": {
        "data": [
         {
          "gender": "M",
          "index": 0,
          "number_of_employees": 198850
         },
         {
          "gender": "F",
          "index": 1,
          "number_of_employees": 132753
         }
        ],
        "schema": {
         "fields": [
          {
           "name": "index",
           "type": "integer"
          },
          {
           "name": "number_of_employees",
           "type": "integer"
          },
          {
           "name": "gender",
           "type": "string"
          }
         ],
         "pandas_version": "0.20.0",
         "primaryKey": [
          "index"
         ]
        }
       },
       "total_rows": 2
      },
      "text/html": [
       "<div>\n",
       "<style scoped>\n",
       "    .dataframe tbody tr th:only-of-type {\n",
       "        vertical-align: middle;\n",
       "    }\n",
       "\n",
       "    .dataframe tbody tr th {\n",
       "        vertical-align: top;\n",
       "    }\n",
       "\n",
       "    .dataframe thead th {\n",
       "        text-align: right;\n",
       "    }\n",
       "</style>\n",
       "<table border=\"1\" class=\"dataframe\">\n",
       "  <thead>\n",
       "    <tr style=\"text-align: right;\">\n",
       "      <th></th>\n",
       "      <th>number_of_employees</th>\n",
       "      <th>gender</th>\n",
       "    </tr>\n",
       "  </thead>\n",
       "  <tbody>\n",
       "    <tr>\n",
       "      <th>0</th>\n",
       "      <td>198850</td>\n",
       "      <td>M</td>\n",
       "    </tr>\n",
       "    <tr>\n",
       "      <th>1</th>\n",
       "      <td>132753</td>\n",
       "      <td>F</td>\n",
       "    </tr>\n",
       "  </tbody>\n",
       "</table>\n",
       "</div>"
      ],
      "text/plain": [
       "   number_of_employees gender\n",
       "0               198850      M\n",
       "1               132753      F"
      ]
     },
     "execution_count": 4,
     "metadata": {},
     "output_type": "execute_result"
    }
   ],
   "source": [
    "/* Joining DEPT_EMP and EMPLOYEES table to identify the gender diversity of employees */\n",
    "SELECT\n",
    "    COUNT(de.emp_no) AS number_of_employees,\n",
    "    e.gender\n",
    "    FROM dept_emp AS de\n",
    "    INNER JOIN employees AS e\n",
    "    USING(emp_no)\n",
    "    GROUP BY gender;"
   ]
  },
  {
   "cell_type": "markdown",
   "id": "4fa32803-72df-45cc-adb1-70736e8697b9",
   "metadata": {},
   "source": [
    "## Q4. What is the gender profile within each department?"
   ]
  },
  {
   "cell_type": "code",
   "execution_count": null,
   "id": "200902f2-fe00-41c8-94b2-7a478f7d484a",
   "metadata": {
    "customType": "sql",
    "dataFrameVariableName": "df",
    "initial": false,
    "integrationId": "aee5c210-59ed-4b56-9819-3151be6192e6"
   },
   "outputs": [
    {
     "data": {
      "application/com.datacamp.data-table.v1+json": {
       "is_truncated": false,
       "table": {
        "data": [
         {
          "Department": "Customer Service",
          "Employee": 14132,
          "Gender": "M",
          "index": 0
         },
         {
          "Department": "Customer Service",
          "Employee": 9448,
          "Gender": "F",
          "index": 1
         },
         {
          "Department": "Development",
          "Employee": 51449,
          "Gender": "M",
          "index": 2
         },
         {
          "Department": "Development",
          "Employee": 34258,
          "Gender": "F",
          "index": 3
         },
         {
          "Department": "Finance",
          "Employee": 7015,
          "Gender": "F",
          "index": 4
         },
         {
          "Department": "Finance",
          "Employee": 10331,
          "Gender": "M",
          "index": 5
         },
         {
          "Department": "Human Resources",
          "Employee": 10711,
          "Gender": "M",
          "index": 6
         },
         {
          "Department": "Human Resources",
          "Employee": 7075,
          "Gender": "F",
          "index": 7
         },
         {
          "Department": "Marketing",
          "Employee": 12174,
          "Gender": "M",
          "index": 8
         },
         {
          "Department": "Marketing",
          "Employee": 8037,
          "Gender": "F",
          "index": 9
         },
         {
          "Department": "Production",
          "Employee": 43936,
          "Gender": "M",
          "index": 10
         },
         {
          "Department": "Production",
          "Employee": 29549,
          "Gender": "F",
          "index": 11
         },
         {
          "Department": "Quality Management",
          "Employee": 8078,
          "Gender": "F",
          "index": 12
         },
         {
          "Department": "Quality Management",
          "Employee": 12039,
          "Gender": "M",
          "index": 13
         },
         {
          "Department": "Research",
          "Employee": 8439,
          "Gender": "F",
          "index": 14
         },
         {
          "Department": "Research",
          "Employee": 12687,
          "Gender": "M",
          "index": 15
         },
         {
          "Department": "Sales",
          "Employee": 20854,
          "Gender": "F",
          "index": 16
         },
         {
          "Department": "Sales",
          "Employee": 31391,
          "Gender": "M",
          "index": 17
         }
        ],
        "schema": {
         "fields": [
          {
           "name": "index",
           "type": "integer"
          },
          {
           "name": "Department",
           "type": "string"
          },
          {
           "name": "Gender",
           "type": "string"
          },
          {
           "name": "Employee",
           "type": "integer"
          }
         ],
         "pandas_version": "0.20.0",
         "primaryKey": [
          "index"
         ]
        }
       },
       "total_rows": 18
      },
      "text/html": [
       "<div>\n",
       "<style scoped>\n",
       "    .dataframe tbody tr th:only-of-type {\n",
       "        vertical-align: middle;\n",
       "    }\n",
       "\n",
       "    .dataframe tbody tr th {\n",
       "        vertical-align: top;\n",
       "    }\n",
       "\n",
       "    .dataframe thead th {\n",
       "        text-align: right;\n",
       "    }\n",
       "</style>\n",
       "<table border=\"1\" class=\"dataframe\">\n",
       "  <thead>\n",
       "    <tr style=\"text-align: right;\">\n",
       "      <th></th>\n",
       "      <th>Department</th>\n",
       "      <th>Gender</th>\n",
       "      <th>Employee</th>\n",
       "    </tr>\n",
       "  </thead>\n",
       "  <tbody>\n",
       "    <tr>\n",
       "      <th>0</th>\n",
       "      <td>Customer Service</td>\n",
       "      <td>M</td>\n",
       "      <td>14132</td>\n",
       "    </tr>\n",
       "    <tr>\n",
       "      <th>1</th>\n",
       "      <td>Customer Service</td>\n",
       "      <td>F</td>\n",
       "      <td>9448</td>\n",
       "    </tr>\n",
       "    <tr>\n",
       "      <th>2</th>\n",
       "      <td>Development</td>\n",
       "      <td>M</td>\n",
       "      <td>51449</td>\n",
       "    </tr>\n",
       "    <tr>\n",
       "      <th>3</th>\n",
       "      <td>Development</td>\n",
       "      <td>F</td>\n",
       "      <td>34258</td>\n",
       "    </tr>\n",
       "    <tr>\n",
       "      <th>4</th>\n",
       "      <td>Finance</td>\n",
       "      <td>F</td>\n",
       "      <td>7015</td>\n",
       "    </tr>\n",
       "    <tr>\n",
       "      <th>5</th>\n",
       "      <td>Finance</td>\n",
       "      <td>M</td>\n",
       "      <td>10331</td>\n",
       "    </tr>\n",
       "    <tr>\n",
       "      <th>6</th>\n",
       "      <td>Human Resources</td>\n",
       "      <td>M</td>\n",
       "      <td>10711</td>\n",
       "    </tr>\n",
       "    <tr>\n",
       "      <th>7</th>\n",
       "      <td>Human Resources</td>\n",
       "      <td>F</td>\n",
       "      <td>7075</td>\n",
       "    </tr>\n",
       "    <tr>\n",
       "      <th>8</th>\n",
       "      <td>Marketing</td>\n",
       "      <td>M</td>\n",
       "      <td>12174</td>\n",
       "    </tr>\n",
       "    <tr>\n",
       "      <th>9</th>\n",
       "      <td>Marketing</td>\n",
       "      <td>F</td>\n",
       "      <td>8037</td>\n",
       "    </tr>\n",
       "    <tr>\n",
       "      <th>10</th>\n",
       "      <td>Production</td>\n",
       "      <td>M</td>\n",
       "      <td>43936</td>\n",
       "    </tr>\n",
       "    <tr>\n",
       "      <th>11</th>\n",
       "      <td>Production</td>\n",
       "      <td>F</td>\n",
       "      <td>29549</td>\n",
       "    </tr>\n",
       "    <tr>\n",
       "      <th>12</th>\n",
       "      <td>Quality Management</td>\n",
       "      <td>F</td>\n",
       "      <td>8078</td>\n",
       "    </tr>\n",
       "    <tr>\n",
       "      <th>13</th>\n",
       "      <td>Quality Management</td>\n",
       "      <td>M</td>\n",
       "      <td>12039</td>\n",
       "    </tr>\n",
       "    <tr>\n",
       "      <th>14</th>\n",
       "      <td>Research</td>\n",
       "      <td>F</td>\n",
       "      <td>8439</td>\n",
       "    </tr>\n",
       "    <tr>\n",
       "      <th>15</th>\n",
       "      <td>Research</td>\n",
       "      <td>M</td>\n",
       "      <td>12687</td>\n",
       "    </tr>\n",
       "    <tr>\n",
       "      <th>16</th>\n",
       "      <td>Sales</td>\n",
       "      <td>F</td>\n",
       "      <td>20854</td>\n",
       "    </tr>\n",
       "    <tr>\n",
       "      <th>17</th>\n",
       "      <td>Sales</td>\n",
       "      <td>M</td>\n",
       "      <td>31391</td>\n",
       "    </tr>\n",
       "  </tbody>\n",
       "</table>\n",
       "</div>"
      ],
      "text/plain": [
       "            Department Gender  Employee\n",
       "0     Customer Service      M     14132\n",
       "1     Customer Service      F      9448\n",
       "2          Development      M     51449\n",
       "3          Development      F     34258\n",
       "4              Finance      F      7015\n",
       "5              Finance      M     10331\n",
       "6      Human Resources      M     10711\n",
       "7      Human Resources      F      7075\n",
       "8            Marketing      M     12174\n",
       "9            Marketing      F      8037\n",
       "10          Production      M     43936\n",
       "11          Production      F     29549\n",
       "12  Quality Management      F      8078\n",
       "13  Quality Management      M     12039\n",
       "14            Research      F      8439\n",
       "15            Research      M     12687\n",
       "16               Sales      F     20854\n",
       "17               Sales      M     31391"
      ]
     },
     "execution_count": 74,
     "metadata": {},
     "output_type": "execute_result"
    }
   ],
   "source": [
    "SELECT\n",
    "    DISTINCT d.dept_name AS Department,\n",
    "    e.gender AS Gender,\n",
    "    COUNT(de.emp_no) AS Employee\n",
    "FROM\n",
    "\tdepartments AS d\n",
    "INNER JOIN\n",
    "\tdept_emp AS de\n",
    "USING(dept_no)\n",
    "INNER JOIN\n",
    "\temployees AS e\n",
    "USING (emp_no)\n",
    "GROUP BY\n",
    "\tGender,\n",
    "    Department\n",
    "ORDER BY\n",
    "Department;"
   ]
  },
  {
   "cell_type": "markdown",
   "id": "db1794aa-578a-405d-b630-5d52aee53064",
   "metadata": {},
   "source": [
    "## Q5. What are the average, maximum and mimum salaries across all departments and titles?"
   ]
  },
  {
   "cell_type": "code",
   "execution_count": null,
   "id": "28b6872b-dfb0-45d6-b7af-fc0823eb0d24",
   "metadata": {
    "customType": "sql",
    "dataFrameVariableName": "df",
    "initial": false,
    "integrationId": "aee5c210-59ed-4b56-9819-3151be6192e6"
   },
   "outputs": [
    {
     "data": {
      "application/com.datacamp.data-table.v1+json": {
       "is_truncated": false,
       "table": {
        "data": [
         {
          "Avg_Salary": 88371.69,
          "Max_Salary": 108407,
          "Min_Salary": 69941,
          "dept_name": "Marketing",
          "index": 0,
          "title": "Manager"
         },
         {
          "Avg_Salary": 85738.76,
          "Max_Salary": 101987,
          "Min_Salary": 70787,
          "dept_name": "Sales",
          "index": 1,
          "title": "Manager"
         },
         {
          "Avg_Salary": 81785.5,
          "Max_Salary": 158220,
          "Min_Salary": 39237,
          "dept_name": "Sales",
          "index": 2,
          "title": "Senior Staff"
         },
         {
          "Avg_Salary": 80677.92,
          "Max_Salary": 158220,
          "Min_Salary": 39169,
          "dept_name": "Sales",
          "index": 3,
          "title": "Staff"
         },
         {
          "Avg_Salary": 77535.18,
          "Max_Salary": 103244,
          "Min_Salary": 48077,
          "dept_name": "Research",
          "index": 4,
          "title": "Manager"
         },
         {
          "Avg_Salary": 73055.06,
          "Max_Salary": 145128,
          "Min_Salary": 39217,
          "dept_name": "Marketing",
          "index": 5,
          "title": "Senior Staff"
         },
         {
          "Avg_Salary": 71832.64,
          "Max_Salary": 145128,
          "Min_Salary": 39127,
          "dept_name": "Marketing",
          "index": 6,
          "title": "Staff"
         },
         {
          "Avg_Salary": 71663.51,
          "Max_Salary": 142395,
          "Min_Salary": 38812,
          "dept_name": "Finance",
          "index": 7,
          "title": "Senior Staff"
         },
         {
          "Avg_Salary": 70815.89,
          "Max_Salary": 88443,
          "Min_Salary": 52070,
          "dept_name": "Finance",
          "index": 8,
          "title": "Manager"
         },
         {
          "Avg_Salary": 70539.36,
          "Max_Salary": 142395,
          "Min_Salary": 39177,
          "dept_name": "Finance",
          "index": 9,
          "title": "Staff"
         },
         {
          "Avg_Salary": 67130.94,
          "Max_Salary": 93193,
          "Min_Salary": 40055,
          "dept_name": "Quality Management",
          "index": 10,
          "title": "Manager"
         },
         {
          "Avg_Salary": 60911.32,
          "Max_Salary": 129468,
          "Min_Salary": 38963,
          "dept_name": "Customer Service",
          "index": 11,
          "title": "Senior Engineer"
         },
         {
          "Avg_Salary": 60886.09,
          "Max_Salary": 138273,
          "Min_Salary": 38872,
          "dept_name": "Production",
          "index": 12,
          "title": "Senior Engineer"
         },
         {
          "Avg_Salary": 60841.21,
          "Max_Salary": 130211,
          "Min_Salary": 38874,
          "dept_name": "Research",
          "index": 13,
          "title": "Senior Staff"
         },
         {
          "Avg_Salary": 60718.12,
          "Max_Salary": 140784,
          "Min_Salary": 38849,
          "dept_name": "Development",
          "index": 14,
          "title": "Senior Engineer"
         },
         {
          "Avg_Salary": 60617.73,
          "Max_Salary": 122941,
          "Min_Salary": 38851,
          "dept_name": "Research",
          "index": 15,
          "title": "Senior Engineer"
         },
         {
          "Avg_Salary": 59858.14,
          "Max_Salary": 138273,
          "Min_Salary": 38916,
          "dept_name": "Production",
          "index": 16,
          "title": "Engineer"
         },
         {
          "Avg_Salary": 59845.13,
          "Max_Salary": 123415,
          "Min_Salary": 39280,
          "dept_name": "Customer Service",
          "index": 17,
          "title": "Engineer"
         },
         {
          "Avg_Salary": 59756.66,
          "Max_Salary": 121683,
          "Min_Salary": 39507,
          "dept_name": "Research",
          "index": 18,
          "title": "Assistant Engineer"
         },
         {
          "Avg_Salary": 59689.57,
          "Max_Salary": 144866,
          "Min_Salary": 38836,
          "dept_name": "Customer Service",
          "index": 19,
          "title": "Senior Staff"
         },
         {
          "Avg_Salary": 59683.08,
          "Max_Salary": 140784,
          "Min_Salary": 38849,
          "dept_name": "Development",
          "index": 20,
          "title": "Engineer"
         },
         {
          "Avg_Salary": 59673.76,
          "Max_Salary": 122940,
          "Min_Salary": 38851,
          "dept_name": "Research",
          "index": 21,
          "title": "Engineer"
         },
         {
          "Avg_Salary": 59658.12,
          "Max_Salary": 74510,
          "Min_Salary": 40000,
          "dept_name": "Development",
          "index": 22,
          "title": "Manager"
         },
         {
          "Avg_Salary": 59626.19,
          "Max_Salary": 133712,
          "Min_Salary": 38850,
          "dept_name": "Development",
          "index": 23,
          "title": "Assistant Engineer"
         },
         {
          "Avg_Salary": 59616.47,
          "Max_Salary": 130211,
          "Min_Salary": 38874,
          "dept_name": "Research",
          "index": 24,
          "title": "Staff"
         },
         {
          "Avg_Salary": 59569.39,
          "Max_Salary": 144434,
          "Min_Salary": 38888,
          "dept_name": "Development",
          "index": 25,
          "title": "Technique Leader"
         },
         {
          "Avg_Salary": 59555.51,
          "Max_Salary": 132233,
          "Min_Salary": 38623,
          "dept_name": "Production",
          "index": 26,
          "title": "Technique Leader"
         },
         {
          "Avg_Salary": 59459.42,
          "Max_Salary": 120910,
          "Min_Salary": 39265,
          "dept_name": "Production",
          "index": 27,
          "title": "Assistant Engineer"
         },
         {
          "Avg_Salary": 59160.52,
          "Max_Salary": 109926,
          "Min_Salary": 39411,
          "dept_name": "Customer Service",
          "index": 28,
          "title": "Technique Leader"
         },
         {
          "Avg_Salary": 58864.11,
          "Max_Salary": 109572,
          "Min_Salary": 39553,
          "dept_name": "Customer Service",
          "index": 29,
          "title": "Assistant Engineer"
         },
         {
          "Avg_Salary": 58807.88,
          "Max_Salary": 123197,
          "Min_Salary": 39554,
          "dept_name": "Research",
          "index": 30,
          "title": "Technique Leader"
         },
         {
          "Avg_Salary": 58649.6,
          "Max_Salary": 144866,
          "Min_Salary": 38836,
          "dept_name": "Customer Service",
          "index": 31,
          "title": "Staff"
         },
         {
          "Avg_Salary": 58500.51,
          "Max_Salary": 123566,
          "Min_Salary": 38786,
          "dept_name": "Quality Management",
          "index": 32,
          "title": "Senior Engineer"
         },
         {
          "Avg_Salary": 58292.78,
          "Max_Salary": 112264,
          "Min_Salary": 38836,
          "dept_name": "Production",
          "index": 33,
          "title": "Senior Staff"
         },
         {
          "Avg_Salary": 58286.06,
          "Max_Salary": 79229,
          "Min_Salary": 40000,
          "dept_name": "Human Resources",
          "index": 34,
          "title": "Manager"
         },
         {
          "Avg_Salary": 58273.66,
          "Max_Salary": 118730,
          "Min_Salary": 39115,
          "dept_name": "Development",
          "index": 35,
          "title": "Senior Staff"
         },
         {
          "Avg_Salary": 57396.52,
          "Max_Salary": 123566,
          "Min_Salary": 38928,
          "dept_name": "Quality Management",
          "index": 36,
          "title": "Engineer"
         },
         {
          "Avg_Salary": 57263.05,
          "Max_Salary": 112264,
          "Min_Salary": 38836,
          "dept_name": "Production",
          "index": 37,
          "title": "Staff"
         },
         {
          "Avg_Salary": 57147.84,
          "Max_Salary": 115763,
          "Min_Salary": 39319,
          "dept_name": "Quality Management",
          "index": 38,
          "title": "Assistant Engineer"
         },
         {
          "Avg_Salary": 57016.22,
          "Max_Salary": 132103,
          "Min_Salary": 38932,
          "dept_name": "Quality Management",
          "index": 39,
          "title": "Technique Leader"
         },
         {
          "Avg_Salary": 56866.28,
          "Max_Salary": 115716,
          "Min_Salary": 39115,
          "dept_name": "Development",
          "index": 40,
          "title": "Staff"
         },
         {
          "Avg_Salary": 56718.78,
          "Max_Salary": 141953,
          "Min_Salary": 38735,
          "dept_name": "Human Resources",
          "index": 41,
          "title": "Senior Staff"
         },
         {
          "Avg_Salary": 56233.4,
          "Max_Salary": 75121,
          "Min_Salary": 40000,
          "dept_name": "Production",
          "index": 42,
          "title": "Manager"
         },
         {
          "Avg_Salary": 55629.84,
          "Max_Salary": 128308,
          "Min_Salary": 38735,
          "dept_name": "Human Resources",
          "index": 43,
          "title": "Staff"
         },
         {
          "Avg_Salary": 54959.67,
          "Max_Salary": 73953,
          "Min_Salary": 40000,
          "dept_name": "Customer Service",
          "index": 44,
          "title": "Manager"
         }
        ],
        "schema": {
         "fields": [
          {
           "name": "index",
           "type": "integer"
          },
          {
           "name": "dept_name",
           "type": "string"
          },
          {
           "name": "title",
           "type": "string"
          },
          {
           "name": "Avg_Salary",
           "type": "number"
          },
          {
           "name": "Max_Salary",
           "type": "integer"
          },
          {
           "name": "Min_Salary",
           "type": "integer"
          }
         ],
         "pandas_version": "0.20.0",
         "primaryKey": [
          "index"
         ]
        }
       },
       "total_rows": 45
      },
      "text/html": [
       "<div>\n",
       "<style scoped>\n",
       "    .dataframe tbody tr th:only-of-type {\n",
       "        vertical-align: middle;\n",
       "    }\n",
       "\n",
       "    .dataframe tbody tr th {\n",
       "        vertical-align: top;\n",
       "    }\n",
       "\n",
       "    .dataframe thead th {\n",
       "        text-align: right;\n",
       "    }\n",
       "</style>\n",
       "<table border=\"1\" class=\"dataframe\">\n",
       "  <thead>\n",
       "    <tr style=\"text-align: right;\">\n",
       "      <th></th>\n",
       "      <th>dept_name</th>\n",
       "      <th>title</th>\n",
       "      <th>Avg_Salary</th>\n",
       "      <th>Max_Salary</th>\n",
       "      <th>Min_Salary</th>\n",
       "    </tr>\n",
       "  </thead>\n",
       "  <tbody>\n",
       "    <tr>\n",
       "      <th>0</th>\n",
       "      <td>Marketing</td>\n",
       "      <td>Manager</td>\n",
       "      <td>88371.69</td>\n",
       "      <td>108407</td>\n",
       "      <td>69941</td>\n",
       "    </tr>\n",
       "    <tr>\n",
       "      <th>1</th>\n",
       "      <td>Sales</td>\n",
       "      <td>Manager</td>\n",
       "      <td>85738.76</td>\n",
       "      <td>101987</td>\n",
       "      <td>70787</td>\n",
       "    </tr>\n",
       "    <tr>\n",
       "      <th>2</th>\n",
       "      <td>Sales</td>\n",
       "      <td>Senior Staff</td>\n",
       "      <td>81785.50</td>\n",
       "      <td>158220</td>\n",
       "      <td>39237</td>\n",
       "    </tr>\n",
       "    <tr>\n",
       "      <th>3</th>\n",
       "      <td>Sales</td>\n",
       "      <td>Staff</td>\n",
       "      <td>80677.92</td>\n",
       "      <td>158220</td>\n",
       "      <td>39169</td>\n",
       "    </tr>\n",
       "    <tr>\n",
       "      <th>4</th>\n",
       "      <td>Research</td>\n",
       "      <td>Manager</td>\n",
       "      <td>77535.18</td>\n",
       "      <td>103244</td>\n",
       "      <td>48077</td>\n",
       "    </tr>\n",
       "    <tr>\n",
       "      <th>5</th>\n",
       "      <td>Marketing</td>\n",
       "      <td>Senior Staff</td>\n",
       "      <td>73055.06</td>\n",
       "      <td>145128</td>\n",
       "      <td>39217</td>\n",
       "    </tr>\n",
       "    <tr>\n",
       "      <th>6</th>\n",
       "      <td>Marketing</td>\n",
       "      <td>Staff</td>\n",
       "      <td>71832.64</td>\n",
       "      <td>145128</td>\n",
       "      <td>39127</td>\n",
       "    </tr>\n",
       "    <tr>\n",
       "      <th>7</th>\n",
       "      <td>Finance</td>\n",
       "      <td>Senior Staff</td>\n",
       "      <td>71663.51</td>\n",
       "      <td>142395</td>\n",
       "      <td>38812</td>\n",
       "    </tr>\n",
       "    <tr>\n",
       "      <th>8</th>\n",
       "      <td>Finance</td>\n",
       "      <td>Manager</td>\n",
       "      <td>70815.89</td>\n",
       "      <td>88443</td>\n",
       "      <td>52070</td>\n",
       "    </tr>\n",
       "    <tr>\n",
       "      <th>9</th>\n",
       "      <td>Finance</td>\n",
       "      <td>Staff</td>\n",
       "      <td>70539.36</td>\n",
       "      <td>142395</td>\n",
       "      <td>39177</td>\n",
       "    </tr>\n",
       "    <tr>\n",
       "      <th>10</th>\n",
       "      <td>Quality Management</td>\n",
       "      <td>Manager</td>\n",
       "      <td>67130.94</td>\n",
       "      <td>93193</td>\n",
       "      <td>40055</td>\n",
       "    </tr>\n",
       "    <tr>\n",
       "      <th>11</th>\n",
       "      <td>Customer Service</td>\n",
       "      <td>Senior Engineer</td>\n",
       "      <td>60911.32</td>\n",
       "      <td>129468</td>\n",
       "      <td>38963</td>\n",
       "    </tr>\n",
       "    <tr>\n",
       "      <th>12</th>\n",
       "      <td>Production</td>\n",
       "      <td>Senior Engineer</td>\n",
       "      <td>60886.09</td>\n",
       "      <td>138273</td>\n",
       "      <td>38872</td>\n",
       "    </tr>\n",
       "    <tr>\n",
       "      <th>13</th>\n",
       "      <td>Research</td>\n",
       "      <td>Senior Staff</td>\n",
       "      <td>60841.21</td>\n",
       "      <td>130211</td>\n",
       "      <td>38874</td>\n",
       "    </tr>\n",
       "    <tr>\n",
       "      <th>14</th>\n",
       "      <td>Development</td>\n",
       "      <td>Senior Engineer</td>\n",
       "      <td>60718.12</td>\n",
       "      <td>140784</td>\n",
       "      <td>38849</td>\n",
       "    </tr>\n",
       "    <tr>\n",
       "      <th>15</th>\n",
       "      <td>Research</td>\n",
       "      <td>Senior Engineer</td>\n",
       "      <td>60617.73</td>\n",
       "      <td>122941</td>\n",
       "      <td>38851</td>\n",
       "    </tr>\n",
       "    <tr>\n",
       "      <th>16</th>\n",
       "      <td>Production</td>\n",
       "      <td>Engineer</td>\n",
       "      <td>59858.14</td>\n",
       "      <td>138273</td>\n",
       "      <td>38916</td>\n",
       "    </tr>\n",
       "    <tr>\n",
       "      <th>17</th>\n",
       "      <td>Customer Service</td>\n",
       "      <td>Engineer</td>\n",
       "      <td>59845.13</td>\n",
       "      <td>123415</td>\n",
       "      <td>39280</td>\n",
       "    </tr>\n",
       "    <tr>\n",
       "      <th>18</th>\n",
       "      <td>Research</td>\n",
       "      <td>Assistant Engineer</td>\n",
       "      <td>59756.66</td>\n",
       "      <td>121683</td>\n",
       "      <td>39507</td>\n",
       "    </tr>\n",
       "    <tr>\n",
       "      <th>19</th>\n",
       "      <td>Customer Service</td>\n",
       "      <td>Senior Staff</td>\n",
       "      <td>59689.57</td>\n",
       "      <td>144866</td>\n",
       "      <td>38836</td>\n",
       "    </tr>\n",
       "    <tr>\n",
       "      <th>20</th>\n",
       "      <td>Development</td>\n",
       "      <td>Engineer</td>\n",
       "      <td>59683.08</td>\n",
       "      <td>140784</td>\n",
       "      <td>38849</td>\n",
       "    </tr>\n",
       "    <tr>\n",
       "      <th>21</th>\n",
       "      <td>Research</td>\n",
       "      <td>Engineer</td>\n",
       "      <td>59673.76</td>\n",
       "      <td>122940</td>\n",
       "      <td>38851</td>\n",
       "    </tr>\n",
       "    <tr>\n",
       "      <th>22</th>\n",
       "      <td>Development</td>\n",
       "      <td>Manager</td>\n",
       "      <td>59658.12</td>\n",
       "      <td>74510</td>\n",
       "      <td>40000</td>\n",
       "    </tr>\n",
       "    <tr>\n",
       "      <th>23</th>\n",
       "      <td>Development</td>\n",
       "      <td>Assistant Engineer</td>\n",
       "      <td>59626.19</td>\n",
       "      <td>133712</td>\n",
       "      <td>38850</td>\n",
       "    </tr>\n",
       "    <tr>\n",
       "      <th>24</th>\n",
       "      <td>Research</td>\n",
       "      <td>Staff</td>\n",
       "      <td>59616.47</td>\n",
       "      <td>130211</td>\n",
       "      <td>38874</td>\n",
       "    </tr>\n",
       "    <tr>\n",
       "      <th>25</th>\n",
       "      <td>Development</td>\n",
       "      <td>Technique Leader</td>\n",
       "      <td>59569.39</td>\n",
       "      <td>144434</td>\n",
       "      <td>38888</td>\n",
       "    </tr>\n",
       "    <tr>\n",
       "      <th>26</th>\n",
       "      <td>Production</td>\n",
       "      <td>Technique Leader</td>\n",
       "      <td>59555.51</td>\n",
       "      <td>132233</td>\n",
       "      <td>38623</td>\n",
       "    </tr>\n",
       "    <tr>\n",
       "      <th>27</th>\n",
       "      <td>Production</td>\n",
       "      <td>Assistant Engineer</td>\n",
       "      <td>59459.42</td>\n",
       "      <td>120910</td>\n",
       "      <td>39265</td>\n",
       "    </tr>\n",
       "    <tr>\n",
       "      <th>28</th>\n",
       "      <td>Customer Service</td>\n",
       "      <td>Technique Leader</td>\n",
       "      <td>59160.52</td>\n",
       "      <td>109926</td>\n",
       "      <td>39411</td>\n",
       "    </tr>\n",
       "    <tr>\n",
       "      <th>29</th>\n",
       "      <td>Customer Service</td>\n",
       "      <td>Assistant Engineer</td>\n",
       "      <td>58864.11</td>\n",
       "      <td>109572</td>\n",
       "      <td>39553</td>\n",
       "    </tr>\n",
       "    <tr>\n",
       "      <th>30</th>\n",
       "      <td>Research</td>\n",
       "      <td>Technique Leader</td>\n",
       "      <td>58807.88</td>\n",
       "      <td>123197</td>\n",
       "      <td>39554</td>\n",
       "    </tr>\n",
       "    <tr>\n",
       "      <th>31</th>\n",
       "      <td>Customer Service</td>\n",
       "      <td>Staff</td>\n",
       "      <td>58649.60</td>\n",
       "      <td>144866</td>\n",
       "      <td>38836</td>\n",
       "    </tr>\n",
       "    <tr>\n",
       "      <th>32</th>\n",
       "      <td>Quality Management</td>\n",
       "      <td>Senior Engineer</td>\n",
       "      <td>58500.51</td>\n",
       "      <td>123566</td>\n",
       "      <td>38786</td>\n",
       "    </tr>\n",
       "    <tr>\n",
       "      <th>33</th>\n",
       "      <td>Production</td>\n",
       "      <td>Senior Staff</td>\n",
       "      <td>58292.78</td>\n",
       "      <td>112264</td>\n",
       "      <td>38836</td>\n",
       "    </tr>\n",
       "    <tr>\n",
       "      <th>34</th>\n",
       "      <td>Human Resources</td>\n",
       "      <td>Manager</td>\n",
       "      <td>58286.06</td>\n",
       "      <td>79229</td>\n",
       "      <td>40000</td>\n",
       "    </tr>\n",
       "    <tr>\n",
       "      <th>35</th>\n",
       "      <td>Development</td>\n",
       "      <td>Senior Staff</td>\n",
       "      <td>58273.66</td>\n",
       "      <td>118730</td>\n",
       "      <td>39115</td>\n",
       "    </tr>\n",
       "    <tr>\n",
       "      <th>36</th>\n",
       "      <td>Quality Management</td>\n",
       "      <td>Engineer</td>\n",
       "      <td>57396.52</td>\n",
       "      <td>123566</td>\n",
       "      <td>38928</td>\n",
       "    </tr>\n",
       "    <tr>\n",
       "      <th>37</th>\n",
       "      <td>Production</td>\n",
       "      <td>Staff</td>\n",
       "      <td>57263.05</td>\n",
       "      <td>112264</td>\n",
       "      <td>38836</td>\n",
       "    </tr>\n",
       "    <tr>\n",
       "      <th>38</th>\n",
       "      <td>Quality Management</td>\n",
       "      <td>Assistant Engineer</td>\n",
       "      <td>57147.84</td>\n",
       "      <td>115763</td>\n",
       "      <td>39319</td>\n",
       "    </tr>\n",
       "    <tr>\n",
       "      <th>39</th>\n",
       "      <td>Quality Management</td>\n",
       "      <td>Technique Leader</td>\n",
       "      <td>57016.22</td>\n",
       "      <td>132103</td>\n",
       "      <td>38932</td>\n",
       "    </tr>\n",
       "    <tr>\n",
       "      <th>40</th>\n",
       "      <td>Development</td>\n",
       "      <td>Staff</td>\n",
       "      <td>56866.28</td>\n",
       "      <td>115716</td>\n",
       "      <td>39115</td>\n",
       "    </tr>\n",
       "    <tr>\n",
       "      <th>41</th>\n",
       "      <td>Human Resources</td>\n",
       "      <td>Senior Staff</td>\n",
       "      <td>56718.78</td>\n",
       "      <td>141953</td>\n",
       "      <td>38735</td>\n",
       "    </tr>\n",
       "    <tr>\n",
       "      <th>42</th>\n",
       "      <td>Production</td>\n",
       "      <td>Manager</td>\n",
       "      <td>56233.40</td>\n",
       "      <td>75121</td>\n",
       "      <td>40000</td>\n",
       "    </tr>\n",
       "    <tr>\n",
       "      <th>43</th>\n",
       "      <td>Human Resources</td>\n",
       "      <td>Staff</td>\n",
       "      <td>55629.84</td>\n",
       "      <td>128308</td>\n",
       "      <td>38735</td>\n",
       "    </tr>\n",
       "    <tr>\n",
       "      <th>44</th>\n",
       "      <td>Customer Service</td>\n",
       "      <td>Manager</td>\n",
       "      <td>54959.67</td>\n",
       "      <td>73953</td>\n",
       "      <td>40000</td>\n",
       "    </tr>\n",
       "  </tbody>\n",
       "</table>\n",
       "</div>"
      ],
      "text/plain": [
       "             dept_name               title  Avg_Salary  Max_Salary  Min_Salary\n",
       "0            Marketing             Manager    88371.69      108407       69941\n",
       "1                Sales             Manager    85738.76      101987       70787\n",
       "2                Sales        Senior Staff    81785.50      158220       39237\n",
       "3                Sales               Staff    80677.92      158220       39169\n",
       "4             Research             Manager    77535.18      103244       48077\n",
       "5            Marketing        Senior Staff    73055.06      145128       39217\n",
       "6            Marketing               Staff    71832.64      145128       39127\n",
       "7              Finance        Senior Staff    71663.51      142395       38812\n",
       "8              Finance             Manager    70815.89       88443       52070\n",
       "9              Finance               Staff    70539.36      142395       39177\n",
       "10  Quality Management             Manager    67130.94       93193       40055\n",
       "11    Customer Service     Senior Engineer    60911.32      129468       38963\n",
       "12          Production     Senior Engineer    60886.09      138273       38872\n",
       "13            Research        Senior Staff    60841.21      130211       38874\n",
       "14         Development     Senior Engineer    60718.12      140784       38849\n",
       "15            Research     Senior Engineer    60617.73      122941       38851\n",
       "16          Production            Engineer    59858.14      138273       38916\n",
       "17    Customer Service            Engineer    59845.13      123415       39280\n",
       "18            Research  Assistant Engineer    59756.66      121683       39507\n",
       "19    Customer Service        Senior Staff    59689.57      144866       38836\n",
       "20         Development            Engineer    59683.08      140784       38849\n",
       "21            Research            Engineer    59673.76      122940       38851\n",
       "22         Development             Manager    59658.12       74510       40000\n",
       "23         Development  Assistant Engineer    59626.19      133712       38850\n",
       "24            Research               Staff    59616.47      130211       38874\n",
       "25         Development    Technique Leader    59569.39      144434       38888\n",
       "26          Production    Technique Leader    59555.51      132233       38623\n",
       "27          Production  Assistant Engineer    59459.42      120910       39265\n",
       "28    Customer Service    Technique Leader    59160.52      109926       39411\n",
       "29    Customer Service  Assistant Engineer    58864.11      109572       39553\n",
       "30            Research    Technique Leader    58807.88      123197       39554\n",
       "31    Customer Service               Staff    58649.60      144866       38836\n",
       "32  Quality Management     Senior Engineer    58500.51      123566       38786\n",
       "33          Production        Senior Staff    58292.78      112264       38836\n",
       "34     Human Resources             Manager    58286.06       79229       40000\n",
       "35         Development        Senior Staff    58273.66      118730       39115\n",
       "36  Quality Management            Engineer    57396.52      123566       38928\n",
       "37          Production               Staff    57263.05      112264       38836\n",
       "38  Quality Management  Assistant Engineer    57147.84      115763       39319\n",
       "39  Quality Management    Technique Leader    57016.22      132103       38932\n",
       "40         Development               Staff    56866.28      115716       39115\n",
       "41     Human Resources        Senior Staff    56718.78      141953       38735\n",
       "42          Production             Manager    56233.40       75121       40000\n",
       "43     Human Resources               Staff    55629.84      128308       38735\n",
       "44    Customer Service             Manager    54959.67       73953       40000"
      ]
     },
     "execution_count": 35,
     "metadata": {},
     "output_type": "execute_result"
    }
   ],
   "source": [
    "SELECT\t\n",
    "\tdept_name,\n",
    "    title,\n",
    "    ROUND(AVG(salary), 2) AS Avg_Salary,\n",
    "    MAX(Salary) AS Max_Salary,\n",
    "    MIN(Salary) AS Min_Salary\n",
    "FROM \n",
    "    departments\n",
    "INNER JOIN dept_emp\n",
    "\tUSING(dept_no)\n",
    "INNER JOIN salaries\n",
    "\tUSING (emp_no)\n",
    "INNER JOIN titles\n",
    "\tUSING (emp_no)\n",
    "GROUP BY\n",
    "\tdept_name,title\n",
    "ORDER BY\n",
    "\tAvg_Salary DESC;"
   ]
  },
  {
   "cell_type": "markdown",
   "id": "f8ee3619-16b7-4988-9c60-f0139edaa310",
   "metadata": {},
   "source": [
    "## Q6. What is the average salary for each titleholder?"
   ]
  },
  {
   "cell_type": "code",
   "execution_count": null,
   "id": "7a6dcc47-55cc-4591-886e-076032573851",
   "metadata": {
    "customType": "sql",
    "dataFrameVariableName": "df",
    "initial": false,
    "integrationId": "aee5c210-59ed-4b56-9819-3151be6192e6"
   },
   "outputs": [
    {
     "data": {
      "application/com.datacamp.data-table.v1+json": {
       "is_truncated": false,
       "table": {
        "data": [
         {
          "Avg_Salary": 70470.84,
          "index": 0,
          "title": "Senior Staff"
         },
         {
          "Avg_Salary": 69309.1,
          "index": 1,
          "title": "Staff"
         },
         {
          "Avg_Salary": 66924.27,
          "index": 2,
          "title": "Manager"
         },
         {
          "Avg_Salary": 60543.22,
          "index": 3,
          "title": "Senior Engineer"
         },
         {
          "Avg_Salary": 59508.04,
          "index": 4,
          "title": "Engineer"
         },
         {
          "Avg_Salary": 59304.99,
          "index": 5,
          "title": "Assistant Engineer"
         },
         {
          "Avg_Salary": 59294.37,
          "index": 6,
          "title": "Technique Leader"
         }
        ],
        "schema": {
         "fields": [
          {
           "name": "index",
           "type": "integer"
          },
          {
           "name": "title",
           "type": "string"
          },
          {
           "name": "Avg_Salary",
           "type": "number"
          }
         ],
         "pandas_version": "0.20.0",
         "primaryKey": [
          "index"
         ]
        }
       },
       "total_rows": 7
      },
      "text/html": [
       "<div>\n",
       "<style scoped>\n",
       "    .dataframe tbody tr th:only-of-type {\n",
       "        vertical-align: middle;\n",
       "    }\n",
       "\n",
       "    .dataframe tbody tr th {\n",
       "        vertical-align: top;\n",
       "    }\n",
       "\n",
       "    .dataframe thead th {\n",
       "        text-align: right;\n",
       "    }\n",
       "</style>\n",
       "<table border=\"1\" class=\"dataframe\">\n",
       "  <thead>\n",
       "    <tr style=\"text-align: right;\">\n",
       "      <th></th>\n",
       "      <th>title</th>\n",
       "      <th>Avg_Salary</th>\n",
       "    </tr>\n",
       "  </thead>\n",
       "  <tbody>\n",
       "    <tr>\n",
       "      <th>0</th>\n",
       "      <td>Senior Staff</td>\n",
       "      <td>70470.84</td>\n",
       "    </tr>\n",
       "    <tr>\n",
       "      <th>1</th>\n",
       "      <td>Staff</td>\n",
       "      <td>69309.10</td>\n",
       "    </tr>\n",
       "    <tr>\n",
       "      <th>2</th>\n",
       "      <td>Manager</td>\n",
       "      <td>66924.27</td>\n",
       "    </tr>\n",
       "    <tr>\n",
       "      <th>3</th>\n",
       "      <td>Senior Engineer</td>\n",
       "      <td>60543.22</td>\n",
       "    </tr>\n",
       "    <tr>\n",
       "      <th>4</th>\n",
       "      <td>Engineer</td>\n",
       "      <td>59508.04</td>\n",
       "    </tr>\n",
       "    <tr>\n",
       "      <th>5</th>\n",
       "      <td>Assistant Engineer</td>\n",
       "      <td>59304.99</td>\n",
       "    </tr>\n",
       "    <tr>\n",
       "      <th>6</th>\n",
       "      <td>Technique Leader</td>\n",
       "      <td>59294.37</td>\n",
       "    </tr>\n",
       "  </tbody>\n",
       "</table>\n",
       "</div>"
      ],
      "text/plain": [
       "                title  Avg_Salary\n",
       "0        Senior Staff    70470.84\n",
       "1               Staff    69309.10\n",
       "2             Manager    66924.27\n",
       "3     Senior Engineer    60543.22\n",
       "4            Engineer    59508.04\n",
       "5  Assistant Engineer    59304.99\n",
       "6    Technique Leader    59294.37"
      ]
     },
     "execution_count": 18,
     "metadata": {},
     "output_type": "execute_result"
    }
   ],
   "source": [
    "SELECT\n",
    "\ttitle,\n",
    "    ROUND(AVG(salary), 2) AS Avg_Salary\n",
    "FROM\n",
    "\tsalaries\n",
    "INNER JOIN\n",
    "\ttitles\n",
    "USING (emp_no)\n",
    "GROUP BY title\n",
    "ORDER BY Avg_Salary DESC;"
   ]
  },
  {
   "cell_type": "markdown",
   "id": "6dfecbca-7ffa-4390-bc1a-4d46e4b44e90",
   "metadata": {},
   "source": [
    "## Q7. What is the average age of employees within each department?"
   ]
  },
  {
   "cell_type": "code",
   "execution_count": null,
   "id": "59d8f8eb-bd19-4c93-993b-6b4ef1db82ba",
   "metadata": {
    "customType": "sql",
    "dataFrameVariableName": "df",
    "initial": false,
    "integrationId": "aee5c210-59ed-4b56-9819-3151be6192e6"
   },
   "outputs": [
    {
     "data": {
      "application/com.datacamp.data-table.v1+json": {
       "is_truncated": false,
       "table": {
        "data": [
         {
          "Avg_Age": 63.34,
          "Department": "Customer Service",
          "Max_Age": 70,
          "Min_Age": 57,
          "index": 0
         },
         {
          "Avg_Age": 63.32,
          "Department": "Development",
          "Max_Age": 70,
          "Min_Age": 57,
          "index": 1
         },
         {
          "Avg_Age": 63.35,
          "Department": "Finance",
          "Max_Age": 70,
          "Min_Age": 57,
          "index": 2
         },
         {
          "Avg_Age": 63.36,
          "Department": "Human Resources",
          "Max_Age": 70,
          "Min_Age": 57,
          "index": 3
         },
         {
          "Avg_Age": 63.34,
          "Department": "Marketing",
          "Max_Age": 70,
          "Min_Age": 57,
          "index": 4
         },
         {
          "Avg_Age": 63.35,
          "Department": "Production",
          "Max_Age": 70,
          "Min_Age": 57,
          "index": 5
         },
         {
          "Avg_Age": 63.37,
          "Department": "Quality Management",
          "Max_Age": 70,
          "Min_Age": 57,
          "index": 6
         },
         {
          "Avg_Age": 63.33,
          "Department": "Research",
          "Max_Age": 70,
          "Min_Age": 57,
          "index": 7
         },
         {
          "Avg_Age": 63.34,
          "Department": "Sales",
          "Max_Age": 70,
          "Min_Age": 57,
          "index": 8
         }
        ],
        "schema": {
         "fields": [
          {
           "name": "index",
           "type": "integer"
          },
          {
           "name": "Department",
           "type": "string"
          },
          {
           "name": "Max_Age",
           "type": "integer"
          },
          {
           "name": "Min_Age",
           "type": "integer"
          },
          {
           "name": "Avg_Age",
           "type": "number"
          }
         ],
         "pandas_version": "0.20.0",
         "primaryKey": [
          "index"
         ]
        }
       },
       "total_rows": 9
      },
      "text/html": [
       "<div>\n",
       "<style scoped>\n",
       "    .dataframe tbody tr th:only-of-type {\n",
       "        vertical-align: middle;\n",
       "    }\n",
       "\n",
       "    .dataframe tbody tr th {\n",
       "        vertical-align: top;\n",
       "    }\n",
       "\n",
       "    .dataframe thead th {\n",
       "        text-align: right;\n",
       "    }\n",
       "</style>\n",
       "<table border=\"1\" class=\"dataframe\">\n",
       "  <thead>\n",
       "    <tr style=\"text-align: right;\">\n",
       "      <th></th>\n",
       "      <th>Department</th>\n",
       "      <th>Max_Age</th>\n",
       "      <th>Min_Age</th>\n",
       "      <th>Avg_Age</th>\n",
       "    </tr>\n",
       "  </thead>\n",
       "  <tbody>\n",
       "    <tr>\n",
       "      <th>0</th>\n",
       "      <td>Customer Service</td>\n",
       "      <td>70</td>\n",
       "      <td>57</td>\n",
       "      <td>63.34</td>\n",
       "    </tr>\n",
       "    <tr>\n",
       "      <th>1</th>\n",
       "      <td>Development</td>\n",
       "      <td>70</td>\n",
       "      <td>57</td>\n",
       "      <td>63.32</td>\n",
       "    </tr>\n",
       "    <tr>\n",
       "      <th>2</th>\n",
       "      <td>Finance</td>\n",
       "      <td>70</td>\n",
       "      <td>57</td>\n",
       "      <td>63.35</td>\n",
       "    </tr>\n",
       "    <tr>\n",
       "      <th>3</th>\n",
       "      <td>Human Resources</td>\n",
       "      <td>70</td>\n",
       "      <td>57</td>\n",
       "      <td>63.36</td>\n",
       "    </tr>\n",
       "    <tr>\n",
       "      <th>4</th>\n",
       "      <td>Marketing</td>\n",
       "      <td>70</td>\n",
       "      <td>57</td>\n",
       "      <td>63.34</td>\n",
       "    </tr>\n",
       "    <tr>\n",
       "      <th>5</th>\n",
       "      <td>Production</td>\n",
       "      <td>70</td>\n",
       "      <td>57</td>\n",
       "      <td>63.35</td>\n",
       "    </tr>\n",
       "    <tr>\n",
       "      <th>6</th>\n",
       "      <td>Quality Management</td>\n",
       "      <td>70</td>\n",
       "      <td>57</td>\n",
       "      <td>63.37</td>\n",
       "    </tr>\n",
       "    <tr>\n",
       "      <th>7</th>\n",
       "      <td>Research</td>\n",
       "      <td>70</td>\n",
       "      <td>57</td>\n",
       "      <td>63.33</td>\n",
       "    </tr>\n",
       "    <tr>\n",
       "      <th>8</th>\n",
       "      <td>Sales</td>\n",
       "      <td>70</td>\n",
       "      <td>57</td>\n",
       "      <td>63.34</td>\n",
       "    </tr>\n",
       "  </tbody>\n",
       "</table>\n",
       "</div>"
      ],
      "text/plain": [
       "           Department  Max_Age  Min_Age  Avg_Age\n",
       "0    Customer Service       70       57    63.34\n",
       "1         Development       70       57    63.32\n",
       "2             Finance       70       57    63.35\n",
       "3     Human Resources       70       57    63.36\n",
       "4           Marketing       70       57    63.34\n",
       "5          Production       70       57    63.35\n",
       "6  Quality Management       70       57    63.37\n",
       "7            Research       70       57    63.33\n",
       "8               Sales       70       57    63.34"
      ]
     },
     "execution_count": 36,
     "metadata": {},
     "output_type": "execute_result"
    }
   ],
   "source": [
    "SELECT\n",
    "\td.dept_name AS Department,\n",
    "\tMAX(TIMESTAMPDIFF(Year, e.birth_date, curdate())) AS Max_Age, \t\t\t\t\tMIN(TIMESTAMPDIFF(Year, e.birth_date, curdate())) AS Min_Age, \t\t\tROUND(AVG(TIMESTAMPDIFF(Year, e.birth_date, curdate())),2) AS Avg_Age\n",
    "FROM\n",
    "\tdepartments AS d\n",
    "INNER JOIN dept_emp AS de\n",
    "\tUSING (dept_no)\n",
    "INNER JOIN employees AS e\n",
    "\tUSING (emp_no)\n",
    "GROUP BY\n",
    "\tDepartment;"
   ]
  },
  {
   "cell_type": "markdown",
   "id": "057a468c-5738-4757-9d0e-c38a99d983e5",
   "metadata": {},
   "source": [
    "## Q8. Who are the oldest serving employees within the company to-date?"
   ]
  },
  {
   "cell_type": "code",
   "execution_count": null,
   "id": "60ce344b-3153-4917-b369-683fd35db53b",
   "metadata": {
    "customType": "sql",
    "dataFrameVariableName": "df",
    "initial": false,
    "integrationId": "aee5c210-59ed-4b56-9819-3151be6192e6"
   },
   "outputs": [
    {
     "data": {
      "application/com.datacamp.data-table.v1+json": {
       "is_truncated": false,
       "table": {
        "data": [
         {
          "Full_Name": "Tonny Butterworth",
          "Service_Period_By_Days": 13666,
          "emp_no": 111692,
          "hire_date": "1985-01-01T00:00:00.000Z",
          "index": 0
         },
         {
          "Full_Name": "Ebru Alpin",
          "Service_Period_By_Days": 13666,
          "emp_no": 110085,
          "hire_date": "1985-01-01T00:00:00.000Z",
          "index": 1
         },
         {
          "Full_Name": "Przemyslawa Kaelbling",
          "Service_Period_By_Days": 13666,
          "emp_no": 111035,
          "hire_date": "1985-01-01T00:00:00.000Z",
          "index": 2
         },
         {
          "Full_Name": "DeForest Hagimont",
          "Service_Period_By_Days": 13666,
          "emp_no": 110511,
          "hire_date": "1985-01-01T00:00:00.000Z",
          "index": 3
         },
         {
          "Full_Name": "Peternela Onuegbe",
          "Service_Period_By_Days": 13666,
          "emp_no": 110725,
          "hire_date": "1985-01-01T00:00:00.000Z",
          "index": 4
         },
         {
          "Full_Name": "Krassimir Wegerle",
          "Service_Period_By_Days": 13666,
          "emp_no": 110303,
          "hire_date": "1985-01-01T00:00:00.000Z",
          "index": 5
         },
         {
          "Full_Name": "Arie Staelin",
          "Service_Period_By_Days": 13666,
          "emp_no": 111400,
          "hire_date": "1985-01-01T00:00:00.000Z",
          "index": 6
         },
         {
          "Full_Name": "Margareta Markovitch",
          "Service_Period_By_Days": 13666,
          "emp_no": 110022,
          "hire_date": "1985-01-01T00:00:00.000Z",
          "index": 7
         },
         {
          "Full_Name": "Shirish Ossenbruggen",
          "Service_Period_By_Days": 13666,
          "emp_no": 110183,
          "hire_date": "1985-01-01T00:00:00.000Z",
          "index": 8
         },
         {
          "Full_Name": "Isamu Legleitner",
          "Service_Period_By_Days": 13653,
          "emp_no": 110114,
          "hire_date": "1985-01-14T00:00:00.000Z",
          "index": 9
         }
        ],
        "schema": {
         "fields": [
          {
           "name": "index",
           "type": "integer"
          },
          {
           "name": "emp_no",
           "type": "integer"
          },
          {
           "name": "Full_Name",
           "type": "string"
          },
          {
           "name": "Service_Period_By_Days",
           "type": "integer"
          },
          {
           "name": "hire_date",
           "type": "datetime",
           "tz": "UTC"
          }
         ],
         "pandas_version": "0.20.0",
         "primaryKey": [
          "index"
         ]
        }
       },
       "total_rows": 10
      },
      "text/html": [
       "<div>\n",
       "<style scoped>\n",
       "    .dataframe tbody tr th:only-of-type {\n",
       "        vertical-align: middle;\n",
       "    }\n",
       "\n",
       "    .dataframe tbody tr th {\n",
       "        vertical-align: top;\n",
       "    }\n",
       "\n",
       "    .dataframe thead th {\n",
       "        text-align: right;\n",
       "    }\n",
       "</style>\n",
       "<table border=\"1\" class=\"dataframe\">\n",
       "  <thead>\n",
       "    <tr style=\"text-align: right;\">\n",
       "      <th></th>\n",
       "      <th>emp_no</th>\n",
       "      <th>Full_Name</th>\n",
       "      <th>Service_Period_By_Days</th>\n",
       "      <th>hire_date</th>\n",
       "    </tr>\n",
       "  </thead>\n",
       "  <tbody>\n",
       "    <tr>\n",
       "      <th>0</th>\n",
       "      <td>111692</td>\n",
       "      <td>Tonny Butterworth</td>\n",
       "      <td>13666</td>\n",
       "      <td>1985-01-01 00:00:00+00:00</td>\n",
       "    </tr>\n",
       "    <tr>\n",
       "      <th>1</th>\n",
       "      <td>110085</td>\n",
       "      <td>Ebru Alpin</td>\n",
       "      <td>13666</td>\n",
       "      <td>1985-01-01 00:00:00+00:00</td>\n",
       "    </tr>\n",
       "    <tr>\n",
       "      <th>2</th>\n",
       "      <td>111035</td>\n",
       "      <td>Przemyslawa Kaelbling</td>\n",
       "      <td>13666</td>\n",
       "      <td>1985-01-01 00:00:00+00:00</td>\n",
       "    </tr>\n",
       "    <tr>\n",
       "      <th>3</th>\n",
       "      <td>110511</td>\n",
       "      <td>DeForest Hagimont</td>\n",
       "      <td>13666</td>\n",
       "      <td>1985-01-01 00:00:00+00:00</td>\n",
       "    </tr>\n",
       "    <tr>\n",
       "      <th>4</th>\n",
       "      <td>110725</td>\n",
       "      <td>Peternela Onuegbe</td>\n",
       "      <td>13666</td>\n",
       "      <td>1985-01-01 00:00:00+00:00</td>\n",
       "    </tr>\n",
       "    <tr>\n",
       "      <th>5</th>\n",
       "      <td>110303</td>\n",
       "      <td>Krassimir Wegerle</td>\n",
       "      <td>13666</td>\n",
       "      <td>1985-01-01 00:00:00+00:00</td>\n",
       "    </tr>\n",
       "    <tr>\n",
       "      <th>6</th>\n",
       "      <td>111400</td>\n",
       "      <td>Arie Staelin</td>\n",
       "      <td>13666</td>\n",
       "      <td>1985-01-01 00:00:00+00:00</td>\n",
       "    </tr>\n",
       "    <tr>\n",
       "      <th>7</th>\n",
       "      <td>110022</td>\n",
       "      <td>Margareta Markovitch</td>\n",
       "      <td>13666</td>\n",
       "      <td>1985-01-01 00:00:00+00:00</td>\n",
       "    </tr>\n",
       "    <tr>\n",
       "      <th>8</th>\n",
       "      <td>110183</td>\n",
       "      <td>Shirish Ossenbruggen</td>\n",
       "      <td>13666</td>\n",
       "      <td>1985-01-01 00:00:00+00:00</td>\n",
       "    </tr>\n",
       "    <tr>\n",
       "      <th>9</th>\n",
       "      <td>110114</td>\n",
       "      <td>Isamu Legleitner</td>\n",
       "      <td>13653</td>\n",
       "      <td>1985-01-14 00:00:00+00:00</td>\n",
       "    </tr>\n",
       "  </tbody>\n",
       "</table>\n",
       "</div>"
      ],
      "text/plain": [
       "   emp_no              Full_Name  Service_Period_By_Days  \\\n",
       "0  111692      Tonny Butterworth                   13666   \n",
       "1  110085             Ebru Alpin                   13666   \n",
       "2  111035  Przemyslawa Kaelbling                   13666   \n",
       "3  110511      DeForest Hagimont                   13666   \n",
       "4  110725      Peternela Onuegbe                   13666   \n",
       "5  110303      Krassimir Wegerle                   13666   \n",
       "6  111400           Arie Staelin                   13666   \n",
       "7  110022   Margareta Markovitch                   13666   \n",
       "8  110183   Shirish Ossenbruggen                   13666   \n",
       "9  110114       Isamu Legleitner                   13653   \n",
       "\n",
       "                  hire_date  \n",
       "0 1985-01-01 00:00:00+00:00  \n",
       "1 1985-01-01 00:00:00+00:00  \n",
       "2 1985-01-01 00:00:00+00:00  \n",
       "3 1985-01-01 00:00:00+00:00  \n",
       "4 1985-01-01 00:00:00+00:00  \n",
       "5 1985-01-01 00:00:00+00:00  \n",
       "6 1985-01-01 00:00:00+00:00  \n",
       "7 1985-01-01 00:00:00+00:00  \n",
       "8 1985-01-01 00:00:00+00:00  \n",
       "9 1985-01-14 00:00:00+00:00  "
      ]
     },
     "execution_count": 58,
     "metadata": {},
     "output_type": "execute_result"
    }
   ],
   "source": [
    "SELECT \n",
    "\temp_no,\n",
    "    CONCAT(first_name,' ',last_name) AS Full_Name,\n",
    "\tTIMESTAMPDIFF(Day, hire_date, curdate()) AS Service_Period_By_Days,\n",
    "    hire_date\n",
    "FROM \n",
    "\temployees\n",
    "LEFT JOIN \n",
    "\t(SELECT emp_no, MAX(to_date) as Max_Date\n",
    "\tFROM titles\n",
    "\tWHERE to_date != curdate()\n",
    "\tGROUP BY emp_no\n",
    "\t) AS Serve_date\n",
    "\tUSING (emp_no)\n",
    "ORDER BY\n",
    "\tService_Period_By_Days DESC\n",
    "LIMIT 10;"
   ]
  },
  {
   "cell_type": "markdown",
   "id": "19610aca-922d-4f44-8f79-4adde1858d65",
   "metadata": {},
   "source": [
    "## Q9. How many employees were hired between 1985 and 2001, and what was the gender diversity of recruitment?"
   ]
  },
  {
   "cell_type": "code",
   "execution_count": null,
   "id": "74a7690a-8379-456e-9ddb-83002c980e24",
   "metadata": {
    "customType": "sql",
    "dataFrameVariableName": "df",
    "initial": false,
    "integrationId": "aee5c210-59ed-4b56-9819-3151be6192e6"
   },
   "outputs": [
    {
     "data": {
      "application/com.datacamp.data-table.v1+json": {
       "is_truncated": false,
       "table": {
        "data": [
         {
          "Employees_Hired": 10992,
          "Recruitment_Year": 1985,
          "gender": "M",
          "index": 0
         },
         {
          "Employees_Hired": 7388,
          "Recruitment_Year": 1985,
          "gender": "F",
          "index": 1
         },
         {
          "Employees_Hired": 12134,
          "Recruitment_Year": 1986,
          "gender": "M",
          "index": 2
         },
         {
          "Employees_Hired": 8020,
          "Recruitment_Year": 1986,
          "gender": "F",
          "index": 3
         },
         {
          "Employees_Hired": 12319,
          "Recruitment_Year": 1987,
          "gender": "M",
          "index": 4
         },
         {
          "Employees_Hired": 8115,
          "Recruitment_Year": 1987,
          "gender": "F",
          "index": 5
         },
         {
          "Employees_Hired": 12362,
          "Recruitment_Year": 1988,
          "gender": "M",
          "index": 6
         },
         {
          "Employees_Hired": 8374,
          "Recruitment_Year": 1988,
          "gender": "F",
          "index": 7
         },
         {
          "Employees_Hired": 12474,
          "Recruitment_Year": 1989,
          "gender": "M",
          "index": 8
         },
         {
          "Employees_Hired": 8569,
          "Recruitment_Year": 1989,
          "gender": "F",
          "index": 9
         },
         {
          "Employees_Hired": 12568,
          "Recruitment_Year": 1990,
          "gender": "M",
          "index": 10
         },
         {
          "Employees_Hired": 8471,
          "Recruitment_Year": 1990,
          "gender": "F",
          "index": 11
         },
         {
          "Employees_Hired": 12727,
          "Recruitment_Year": 1991,
          "gender": "M",
          "index": 12
         },
         {
          "Employees_Hired": 8257,
          "Recruitment_Year": 1991,
          "gender": "F",
          "index": 13
         },
         {
          "Employees_Hired": 12955,
          "Recruitment_Year": 1992,
          "gender": "M",
          "index": 14
         },
         {
          "Employees_Hired": 8593,
          "Recruitment_Year": 1992,
          "gender": "F",
          "index": 15
         },
         {
          "Employees_Hired": 12913,
          "Recruitment_Year": 1993,
          "gender": "M",
          "index": 16
         },
         {
          "Employees_Hired": 8589,
          "Recruitment_Year": 1993,
          "gender": "F",
          "index": 17
         },
         {
          "Employees_Hired": 12877,
          "Recruitment_Year": 1994,
          "gender": "M",
          "index": 18
         },
         {
          "Employees_Hired": 8741,
          "Recruitment_Year": 1994,
          "gender": "F",
          "index": 19
         },
         {
          "Employees_Hired": 13158,
          "Recruitment_Year": 1995,
          "gender": "M",
          "index": 20
         },
         {
          "Employees_Hired": 8750,
          "Recruitment_Year": 1995,
          "gender": "F",
          "index": 21
         },
         {
          "Employees_Hired": 13573,
          "Recruitment_Year": 1996,
          "gender": "M",
          "index": 22
         },
         {
          "Employees_Hired": 8940,
          "Recruitment_Year": 1996,
          "gender": "F",
          "index": 23
         },
         {
          "Employees_Hired": 13672,
          "Recruitment_Year": 1997,
          "gender": "M",
          "index": 24
         },
         {
          "Employees_Hired": 9100,
          "Recruitment_Year": 1997,
          "gender": "F",
          "index": 25
         },
         {
          "Employees_Hired": 13717,
          "Recruitment_Year": 1998,
          "gender": "M",
          "index": 26
         },
         {
          "Employees_Hired": 9216,
          "Recruitment_Year": 1998,
          "gender": "F",
          "index": 27
         },
         {
          "Employees_Hired": 14023,
          "Recruitment_Year": 1999,
          "gender": "M",
          "index": 28
         },
         {
          "Employees_Hired": 9329,
          "Recruitment_Year": 1999,
          "gender": "F",
          "index": 29
         },
         {
          "Employees_Hired": 3160,
          "Recruitment_Year": 2000,
          "gender": "M",
          "index": 30
         },
         {
          "Employees_Hired": 2190,
          "Recruitment_Year": 2000,
          "gender": "F",
          "index": 31
         },
         {
          "Employees_Hired": 2063,
          "Recruitment_Year": 2001,
          "gender": "M",
          "index": 32
         },
         {
          "Employees_Hired": 1408,
          "Recruitment_Year": 2001,
          "gender": "F",
          "index": 33
         }
        ],
        "schema": {
         "fields": [
          {
           "name": "index",
           "type": "integer"
          },
          {
           "name": "Recruitment_Year",
           "type": "integer"
          },
          {
           "name": "Employees_Hired",
           "type": "integer"
          },
          {
           "name": "gender",
           "type": "string"
          }
         ],
         "pandas_version": "0.20.0",
         "primaryKey": [
          "index"
         ]
        }
       },
       "total_rows": 34
      },
      "text/html": [
       "<div>\n",
       "<style scoped>\n",
       "    .dataframe tbody tr th:only-of-type {\n",
       "        vertical-align: middle;\n",
       "    }\n",
       "\n",
       "    .dataframe tbody tr th {\n",
       "        vertical-align: top;\n",
       "    }\n",
       "\n",
       "    .dataframe thead th {\n",
       "        text-align: right;\n",
       "    }\n",
       "</style>\n",
       "<table border=\"1\" class=\"dataframe\">\n",
       "  <thead>\n",
       "    <tr style=\"text-align: right;\">\n",
       "      <th></th>\n",
       "      <th>Recruitment_Year</th>\n",
       "      <th>Employees_Hired</th>\n",
       "      <th>gender</th>\n",
       "    </tr>\n",
       "  </thead>\n",
       "  <tbody>\n",
       "    <tr>\n",
       "      <th>0</th>\n",
       "      <td>1985</td>\n",
       "      <td>10992</td>\n",
       "      <td>M</td>\n",
       "    </tr>\n",
       "    <tr>\n",
       "      <th>1</th>\n",
       "      <td>1985</td>\n",
       "      <td>7388</td>\n",
       "      <td>F</td>\n",
       "    </tr>\n",
       "    <tr>\n",
       "      <th>2</th>\n",
       "      <td>1986</td>\n",
       "      <td>12134</td>\n",
       "      <td>M</td>\n",
       "    </tr>\n",
       "    <tr>\n",
       "      <th>3</th>\n",
       "      <td>1986</td>\n",
       "      <td>8020</td>\n",
       "      <td>F</td>\n",
       "    </tr>\n",
       "    <tr>\n",
       "      <th>4</th>\n",
       "      <td>1987</td>\n",
       "      <td>12319</td>\n",
       "      <td>M</td>\n",
       "    </tr>\n",
       "    <tr>\n",
       "      <th>5</th>\n",
       "      <td>1987</td>\n",
       "      <td>8115</td>\n",
       "      <td>F</td>\n",
       "    </tr>\n",
       "    <tr>\n",
       "      <th>6</th>\n",
       "      <td>1988</td>\n",
       "      <td>12362</td>\n",
       "      <td>M</td>\n",
       "    </tr>\n",
       "    <tr>\n",
       "      <th>7</th>\n",
       "      <td>1988</td>\n",
       "      <td>8374</td>\n",
       "      <td>F</td>\n",
       "    </tr>\n",
       "    <tr>\n",
       "      <th>8</th>\n",
       "      <td>1989</td>\n",
       "      <td>12474</td>\n",
       "      <td>M</td>\n",
       "    </tr>\n",
       "    <tr>\n",
       "      <th>9</th>\n",
       "      <td>1989</td>\n",
       "      <td>8569</td>\n",
       "      <td>F</td>\n",
       "    </tr>\n",
       "    <tr>\n",
       "      <th>10</th>\n",
       "      <td>1990</td>\n",
       "      <td>12568</td>\n",
       "      <td>M</td>\n",
       "    </tr>\n",
       "    <tr>\n",
       "      <th>11</th>\n",
       "      <td>1990</td>\n",
       "      <td>8471</td>\n",
       "      <td>F</td>\n",
       "    </tr>\n",
       "    <tr>\n",
       "      <th>12</th>\n",
       "      <td>1991</td>\n",
       "      <td>12727</td>\n",
       "      <td>M</td>\n",
       "    </tr>\n",
       "    <tr>\n",
       "      <th>13</th>\n",
       "      <td>1991</td>\n",
       "      <td>8257</td>\n",
       "      <td>F</td>\n",
       "    </tr>\n",
       "    <tr>\n",
       "      <th>14</th>\n",
       "      <td>1992</td>\n",
       "      <td>12955</td>\n",
       "      <td>M</td>\n",
       "    </tr>\n",
       "    <tr>\n",
       "      <th>15</th>\n",
       "      <td>1992</td>\n",
       "      <td>8593</td>\n",
       "      <td>F</td>\n",
       "    </tr>\n",
       "    <tr>\n",
       "      <th>16</th>\n",
       "      <td>1993</td>\n",
       "      <td>12913</td>\n",
       "      <td>M</td>\n",
       "    </tr>\n",
       "    <tr>\n",
       "      <th>17</th>\n",
       "      <td>1993</td>\n",
       "      <td>8589</td>\n",
       "      <td>F</td>\n",
       "    </tr>\n",
       "    <tr>\n",
       "      <th>18</th>\n",
       "      <td>1994</td>\n",
       "      <td>12877</td>\n",
       "      <td>M</td>\n",
       "    </tr>\n",
       "    <tr>\n",
       "      <th>19</th>\n",
       "      <td>1994</td>\n",
       "      <td>8741</td>\n",
       "      <td>F</td>\n",
       "    </tr>\n",
       "    <tr>\n",
       "      <th>20</th>\n",
       "      <td>1995</td>\n",
       "      <td>13158</td>\n",
       "      <td>M</td>\n",
       "    </tr>\n",
       "    <tr>\n",
       "      <th>21</th>\n",
       "      <td>1995</td>\n",
       "      <td>8750</td>\n",
       "      <td>F</td>\n",
       "    </tr>\n",
       "    <tr>\n",
       "      <th>22</th>\n",
       "      <td>1996</td>\n",
       "      <td>13573</td>\n",
       "      <td>M</td>\n",
       "    </tr>\n",
       "    <tr>\n",
       "      <th>23</th>\n",
       "      <td>1996</td>\n",
       "      <td>8940</td>\n",
       "      <td>F</td>\n",
       "    </tr>\n",
       "    <tr>\n",
       "      <th>24</th>\n",
       "      <td>1997</td>\n",
       "      <td>13672</td>\n",
       "      <td>M</td>\n",
       "    </tr>\n",
       "    <tr>\n",
       "      <th>25</th>\n",
       "      <td>1997</td>\n",
       "      <td>9100</td>\n",
       "      <td>F</td>\n",
       "    </tr>\n",
       "    <tr>\n",
       "      <th>26</th>\n",
       "      <td>1998</td>\n",
       "      <td>13717</td>\n",
       "      <td>M</td>\n",
       "    </tr>\n",
       "    <tr>\n",
       "      <th>27</th>\n",
       "      <td>1998</td>\n",
       "      <td>9216</td>\n",
       "      <td>F</td>\n",
       "    </tr>\n",
       "    <tr>\n",
       "      <th>28</th>\n",
       "      <td>1999</td>\n",
       "      <td>14023</td>\n",
       "      <td>M</td>\n",
       "    </tr>\n",
       "    <tr>\n",
       "      <th>29</th>\n",
       "      <td>1999</td>\n",
       "      <td>9329</td>\n",
       "      <td>F</td>\n",
       "    </tr>\n",
       "    <tr>\n",
       "      <th>30</th>\n",
       "      <td>2000</td>\n",
       "      <td>3160</td>\n",
       "      <td>M</td>\n",
       "    </tr>\n",
       "    <tr>\n",
       "      <th>31</th>\n",
       "      <td>2000</td>\n",
       "      <td>2190</td>\n",
       "      <td>F</td>\n",
       "    </tr>\n",
       "    <tr>\n",
       "      <th>32</th>\n",
       "      <td>2001</td>\n",
       "      <td>2063</td>\n",
       "      <td>M</td>\n",
       "    </tr>\n",
       "    <tr>\n",
       "      <th>33</th>\n",
       "      <td>2001</td>\n",
       "      <td>1408</td>\n",
       "      <td>F</td>\n",
       "    </tr>\n",
       "  </tbody>\n",
       "</table>\n",
       "</div>"
      ],
      "text/plain": [
       "    Recruitment_Year  Employees_Hired gender\n",
       "0               1985            10992      M\n",
       "1               1985             7388      F\n",
       "2               1986            12134      M\n",
       "3               1986             8020      F\n",
       "4               1987            12319      M\n",
       "5               1987             8115      F\n",
       "6               1988            12362      M\n",
       "7               1988             8374      F\n",
       "8               1989            12474      M\n",
       "9               1989             8569      F\n",
       "10              1990            12568      M\n",
       "11              1990             8471      F\n",
       "12              1991            12727      M\n",
       "13              1991             8257      F\n",
       "14              1992            12955      M\n",
       "15              1992             8593      F\n",
       "16              1993            12913      M\n",
       "17              1993             8589      F\n",
       "18              1994            12877      M\n",
       "19              1994             8741      F\n",
       "20              1995            13158      M\n",
       "21              1995             8750      F\n",
       "22              1996            13573      M\n",
       "23              1996             8940      F\n",
       "24              1997            13672      M\n",
       "25              1997             9100      F\n",
       "26              1998            13717      M\n",
       "27              1998             9216      F\n",
       "28              1999            14023      M\n",
       "29              1999             9329      F\n",
       "30              2000             3160      M\n",
       "31              2000             2190      F\n",
       "32              2001             2063      M\n",
       "33              2001             1408      F"
      ]
     },
     "execution_count": 66,
     "metadata": {},
     "output_type": "execute_result"
    }
   ],
   "source": [
    "SELECT\n",
    "    YEAR(de.from_date) AS Recruitment_Year,\n",
    "    COUNT(e.emp_no) AS Employees_Hired,\n",
    "    e.gender\n",
    "FROM\n",
    "\tdept_emp AS de\n",
    "INNER JOIN\n",
    "\temployees as e\n",
    "ON\n",
    "\tde.emp_no = e.emp_no\n",
    "WHERE\n",
    "\tYEAR(de.from_date) >= \"1985\"\n",
    "AND\n",
    "\tYEAR(de.from_date) <= \"2001\"\n",
    "GROUP BY\n",
    "\tRecruitment_Year, e.gender\n",
    "ORDER BY\n",
    "\tRecruitment_Year;"
   ]
  },
  {
   "cell_type": "markdown",
   "id": "ad49b249-9d35-4975-bf4f-d9899448e61c",
   "metadata": {},
   "source": [
    "## Q10. What is the men and women ratio at Manager title?"
   ]
  },
  {
   "cell_type": "code",
   "execution_count": null,
   "id": "303bf6c6-11b4-4901-98ee-26ec4a6cd466",
   "metadata": {
    "customType": "sql",
    "dataFrameVariableName": "df",
    "initial": false,
    "integrationId": "aee5c210-59ed-4b56-9819-3151be6192e6"
   },
   "outputs": [
    {
     "data": {
      "application/com.datacamp.data-table.v1+json": {
       "is_truncated": false,
       "table": {
        "data": [
         {
          "Employee_Count": 11,
          "gender": "M",
          "index": 0,
          "title": "Manager"
         },
         {
          "Employee_Count": 13,
          "gender": "F",
          "index": 1,
          "title": "Manager"
         }
        ],
        "schema": {
         "fields": [
          {
           "name": "index",
           "type": "integer"
          },
          {
           "name": "Employee_Count",
           "type": "integer"
          },
          {
           "name": "gender",
           "type": "string"
          },
          {
           "name": "title",
           "type": "string"
          }
         ],
         "pandas_version": "0.20.0",
         "primaryKey": [
          "index"
         ]
        }
       },
       "total_rows": 2
      },
      "text/html": [
       "<div>\n",
       "<style scoped>\n",
       "    .dataframe tbody tr th:only-of-type {\n",
       "        vertical-align: middle;\n",
       "    }\n",
       "\n",
       "    .dataframe tbody tr th {\n",
       "        vertical-align: top;\n",
       "    }\n",
       "\n",
       "    .dataframe thead th {\n",
       "        text-align: right;\n",
       "    }\n",
       "</style>\n",
       "<table border=\"1\" class=\"dataframe\">\n",
       "  <thead>\n",
       "    <tr style=\"text-align: right;\">\n",
       "      <th></th>\n",
       "      <th>Employee_Count</th>\n",
       "      <th>gender</th>\n",
       "      <th>title</th>\n",
       "    </tr>\n",
       "  </thead>\n",
       "  <tbody>\n",
       "    <tr>\n",
       "      <th>0</th>\n",
       "      <td>11</td>\n",
       "      <td>M</td>\n",
       "      <td>Manager</td>\n",
       "    </tr>\n",
       "    <tr>\n",
       "      <th>1</th>\n",
       "      <td>13</td>\n",
       "      <td>F</td>\n",
       "      <td>Manager</td>\n",
       "    </tr>\n",
       "  </tbody>\n",
       "</table>\n",
       "</div>"
      ],
      "text/plain": [
       "   Employee_Count gender    title\n",
       "0              11      M  Manager\n",
       "1              13      F  Manager"
      ]
     },
     "execution_count": 73,
     "metadata": {},
     "output_type": "execute_result"
    }
   ],
   "source": [
    "SELECT\n",
    "    COUNT(emp_no) AS Employee_Count,\n",
    "    e.gender,\n",
    "    t.title\n",
    "FROM\n",
    "\ttitles AS t\n",
    "INNER JOIN\n",
    "\temployees as e\n",
    "USING(emp_no)\n",
    "WHERE\n",
    "\tt.title = \"Manager\"\n",
    "GROUP BY\n",
    "\te.gender;"
   ]
  },
  {
   "cell_type": "markdown",
   "id": "f70d586c-bb59-4129-b2bb-298e8ca87118",
   "metadata": {},
   "source": [
    "## Q11. Which staff have been employed for the least amount of days?"
   ]
  },
  {
   "cell_type": "code",
   "execution_count": null,
   "id": "8ab26939-c919-4370-88ca-f7388faf5ff4",
   "metadata": {
    "customType": "sql",
    "dataFrameVariableName": "df",
    "initial": false,
    "integrationId": "aee5c210-59ed-4b56-9819-3151be6192e6"
   },
   "outputs": [
    {
     "data": {
      "application/com.datacamp.data-table.v1+json": {
       "is_truncated": false,
       "table": {
        "data": [
         {
          "Days_worked": 0,
          "Full_Name": "Deborah Jumpertz",
          "emp_no": 13058,
          "from_date": "2001-07-05T00:00:00.000Z",
          "index": 0,
          "to_date": "2001-07-05T00:00:00.000Z"
         },
         {
          "Days_worked": 1,
          "Full_Name": "Miquel Zweizig",
          "emp_no": 14807,
          "from_date": "1999-02-13T00:00:00.000Z",
          "index": 1,
          "to_date": "1999-02-14T00:00:00.000Z"
         },
         {
          "Days_worked": 2,
          "Full_Name": "Wayne Barbanera",
          "emp_no": 23261,
          "from_date": "1999-10-30T00:00:00.000Z",
          "index": 2,
          "to_date": "1999-11-01T00:00:00.000Z"
         },
         {
          "Days_worked": 3,
          "Full_Name": "Serge Cardazo",
          "emp_no": 21304,
          "from_date": "1997-03-19T00:00:00.000Z",
          "index": 3,
          "to_date": "1997-03-22T00:00:00.000Z"
         },
         {
          "Days_worked": 4,
          "Full_Name": "Goetz Norsworthy",
          "emp_no": 10765,
          "from_date": "1994-05-07T00:00:00.000Z",
          "index": 4,
          "to_date": "1994-05-11T00:00:00.000Z"
         },
         {
          "Days_worked": 5,
          "Full_Name": "Qunsheng Shumilov",
          "emp_no": 20554,
          "from_date": "1999-04-15T00:00:00.000Z",
          "index": 5,
          "to_date": "1999-04-20T00:00:00.000Z"
         },
         {
          "Days_worked": 6,
          "Full_Name": "Geraldo Levergood",
          "emp_no": 11297,
          "from_date": "1991-02-16T00:00:00.000Z",
          "index": 6,
          "to_date": "1991-02-22T00:00:00.000Z"
         },
         {
          "Days_worked": 7,
          "Full_Name": "Marek Erva",
          "emp_no": 15396,
          "from_date": "1995-04-02T00:00:00.000Z",
          "index": 7,
          "to_date": "1995-04-09T00:00:00.000Z"
         },
         {
          "Days_worked": 8,
          "Full_Name": "Gladys Dichev",
          "emp_no": 13224,
          "from_date": "1995-12-09T00:00:00.000Z",
          "index": 8,
          "to_date": "1995-12-17T00:00:00.000Z"
         },
         {
          "Days_worked": 9,
          "Full_Name": "Takahira Furedi",
          "emp_no": 13788,
          "from_date": "1997-04-03T00:00:00.000Z",
          "index": 9,
          "to_date": "1997-04-12T00:00:00.000Z"
         },
         {
          "Days_worked": 10,
          "Full_Name": "Gift Frolund",
          "emp_no": 12974,
          "from_date": "1994-10-24T00:00:00.000Z",
          "index": 10,
          "to_date": "1994-11-03T00:00:00.000Z"
         },
         {
          "Days_worked": 11,
          "Full_Name": "Jungsoon Rosar",
          "emp_no": 15194,
          "from_date": "1990-08-21T00:00:00.000Z",
          "index": 11,
          "to_date": "1990-09-01T00:00:00.000Z"
         },
         {
          "Days_worked": 12,
          "Full_Name": "Parviz Lortz",
          "emp_no": 10082,
          "from_date": "1990-01-03T00:00:00.000Z",
          "index": 12,
          "to_date": "1990-01-15T00:00:00.000Z"
         },
         {
          "Days_worked": 13,
          "Full_Name": "Mokhtar Huttel",
          "emp_no": 12260,
          "from_date": "1991-04-26T00:00:00.000Z",
          "index": 13,
          "to_date": "1991-05-09T00:00:00.000Z"
         },
         {
          "Days_worked": 14,
          "Full_Name": "Hongzue Lorcy",
          "emp_no": 18488,
          "from_date": "1995-08-04T00:00:00.000Z",
          "index": 14,
          "to_date": "1995-08-18T00:00:00.000Z"
         },
         {
          "Days_worked": 15,
          "Full_Name": "Christoper Schwaller",
          "emp_no": 10316,
          "from_date": "1990-12-18T00:00:00.000Z",
          "index": 15,
          "to_date": "1991-01-02T00:00:00.000Z"
         },
         {
          "Days_worked": 16,
          "Full_Name": "Holgard Siepmann",
          "emp_no": 11484,
          "from_date": "1999-10-06T00:00:00.000Z",
          "index": 16,
          "to_date": "1999-10-22T00:00:00.000Z"
         },
         {
          "Days_worked": 17,
          "Full_Name": "Charmane Pashtan",
          "emp_no": 32664,
          "from_date": "1990-02-26T00:00:00.000Z",
          "index": 17,
          "to_date": "1990-03-15T00:00:00.000Z"
         },
         {
          "Days_worked": 18,
          "Full_Name": "Weiye Zambonelli",
          "emp_no": 11131,
          "from_date": "1999-07-14T00:00:00.000Z",
          "index": 18,
          "to_date": "1999-08-01T00:00:00.000Z"
         },
         {
          "Days_worked": 19,
          "Full_Name": "Mototsugu Mukaidono",
          "emp_no": 30953,
          "from_date": "1996-08-02T00:00:00.000Z",
          "index": 19,
          "to_date": "1996-08-21T00:00:00.000Z"
         },
         {
          "Days_worked": 20,
          "Full_Name": "Shir McClurg",
          "emp_no": 10073,
          "from_date": "1998-02-02T00:00:00.000Z",
          "index": 20,
          "to_date": "1998-02-22T00:00:00.000Z"
         },
         {
          "Days_worked": 21,
          "Full_Name": "Urs Prenel",
          "emp_no": 19025,
          "from_date": "1997-12-23T00:00:00.000Z",
          "index": 21,
          "to_date": "1998-01-13T00:00:00.000Z"
         },
         {
          "Days_worked": 22,
          "Full_Name": "Petter Bahi",
          "emp_no": 22044,
          "from_date": "1997-07-22T00:00:00.000Z",
          "index": 22,
          "to_date": "1997-08-13T00:00:00.000Z"
         },
         {
          "Days_worked": 23,
          "Full_Name": "Jeanne Valiente",
          "emp_no": 41157,
          "from_date": "1994-04-20T00:00:00.000Z",
          "index": 23,
          "to_date": "1994-05-13T00:00:00.000Z"
         },
         {
          "Days_worked": 24,
          "Full_Name": "Kazuhisa Prampolini",
          "emp_no": 27542,
          "from_date": "1999-09-03T00:00:00.000Z",
          "index": 24,
          "to_date": "1999-09-27T00:00:00.000Z"
         },
         {
          "Days_worked": 25,
          "Full_Name": "Magy Joslin",
          "emp_no": 14846,
          "from_date": "1997-05-02T00:00:00.000Z",
          "index": 25,
          "to_date": "1997-05-27T00:00:00.000Z"
         },
         {
          "Days_worked": 26,
          "Full_Name": "Elvia Homond",
          "emp_no": 10489,
          "from_date": "1989-09-10T00:00:00.000Z",
          "index": 26,
          "to_date": "1989-10-06T00:00:00.000Z"
         },
         {
          "Days_worked": 27,
          "Full_Name": "Chiradeep Furedi",
          "emp_no": 10985,
          "from_date": "1999-02-11T00:00:00.000Z",
          "index": 27,
          "to_date": "1999-03-10T00:00:00.000Z"
         },
         {
          "Days_worked": 28,
          "Full_Name": "Toney Ratnakar",
          "emp_no": 16866,
          "from_date": "1998-03-17T00:00:00.000Z",
          "index": 28,
          "to_date": "1998-04-14T00:00:00.000Z"
         },
         {
          "Days_worked": 29,
          "Full_Name": "Baocai Standera",
          "emp_no": 14315,
          "from_date": "1999-08-26T00:00:00.000Z",
          "index": 29,
          "to_date": "1999-09-24T00:00:00.000Z"
         },
         {
          "Days_worked": 30,
          "Full_Name": "Shih Mayerwieser",
          "emp_no": 13801,
          "from_date": "1999-05-26T00:00:00.000Z",
          "index": 30,
          "to_date": "1999-06-25T00:00:00.000Z"
         },
         {
          "Days_worked": 31,
          "Full_Name": "Jinxi Baak",
          "emp_no": 11145,
          "from_date": "1999-04-23T00:00:00.000Z",
          "index": 31,
          "to_date": "1999-05-24T00:00:00.000Z"
         },
         {
          "Days_worked": 32,
          "Full_Name": "Yaghout Pagter",
          "emp_no": 18848,
          "from_date": "1995-11-23T00:00:00.000Z",
          "index": 32,
          "to_date": "1995-12-25T00:00:00.000Z"
         },
         {
          "Days_worked": 33,
          "Full_Name": "Nevin Petereit",
          "emp_no": 11358,
          "from_date": "1998-06-02T00:00:00.000Z",
          "index": 33,
          "to_date": "1998-07-05T00:00:00.000Z"
         },
         {
          "Days_worked": 34,
          "Full_Name": "Aral Beznosov",
          "emp_no": 26648,
          "from_date": "1999-09-20T00:00:00.000Z",
          "index": 34,
          "to_date": "1999-10-24T00:00:00.000Z"
         },
         {
          "Days_worked": 35,
          "Full_Name": "Alenka Gurbaxani",
          "emp_no": 16726,
          "from_date": "1994-09-30T00:00:00.000Z",
          "index": 35,
          "to_date": "1994-11-04T00:00:00.000Z"
         },
         {
          "Days_worked": 36,
          "Full_Name": "Godehard Braccini",
          "emp_no": 12303,
          "from_date": "1988-06-13T00:00:00.000Z",
          "index": 36,
          "to_date": "1988-07-19T00:00:00.000Z"
         },
         {
          "Days_worked": 37,
          "Full_Name": "Youssef Shobatake",
          "emp_no": 39559,
          "from_date": "1997-10-26T00:00:00.000Z",
          "index": 37,
          "to_date": "1997-12-02T00:00:00.000Z"
         },
         {
          "Days_worked": 38,
          "Full_Name": "Gunilla Merkl",
          "emp_no": 17091,
          "from_date": "1992-02-11T00:00:00.000Z",
          "index": 38,
          "to_date": "1992-03-20T00:00:00.000Z"
         },
         {
          "Days_worked": 39,
          "Full_Name": "Danel Godskesen",
          "emp_no": 15483,
          "from_date": "1993-09-09T00:00:00.000Z",
          "index": 39,
          "to_date": "1993-10-18T00:00:00.000Z"
         },
         {
          "Days_worked": 40,
          "Full_Name": "Luerbio Ratzlaff",
          "emp_no": 28494,
          "from_date": "2000-11-04T00:00:00.000Z",
          "index": 40,
          "to_date": "2000-12-14T00:00:00.000Z"
         },
         {
          "Days_worked": 41,
          "Full_Name": "Paddy Ozery",
          "emp_no": 29553,
          "from_date": "1998-09-09T00:00:00.000Z",
          "index": 41,
          "to_date": "1998-10-20T00:00:00.000Z"
         },
         {
          "Days_worked": 42,
          "Full_Name": "Zhensheng Beidas",
          "emp_no": 16576,
          "from_date": "1992-03-08T00:00:00.000Z",
          "index": 42,
          "to_date": "1992-04-19T00:00:00.000Z"
         },
         {
          "Days_worked": 43,
          "Full_Name": "Ekawit Demir",
          "emp_no": 21147,
          "from_date": "2002-03-09T00:00:00.000Z",
          "index": 43,
          "to_date": "2002-04-21T00:00:00.000Z"
         },
         {
          "Days_worked": 44,
          "Full_Name": "Fun Viele",
          "emp_no": 23700,
          "from_date": "1993-04-27T00:00:00.000Z",
          "index": 44,
          "to_date": "1993-06-10T00:00:00.000Z"
         },
         {
          "Days_worked": 45,
          "Full_Name": "Etsuo Callaway",
          "emp_no": 15813,
          "from_date": "1997-06-01T00:00:00.000Z",
          "index": 45,
          "to_date": "1997-07-16T00:00:00.000Z"
         },
         {
          "Days_worked": 46,
          "Full_Name": "Fox Narahari",
          "emp_no": 11477,
          "from_date": "1996-07-28T00:00:00.000Z",
          "index": 46,
          "to_date": "1996-09-12T00:00:00.000Z"
         },
         {
          "Days_worked": 47,
          "Full_Name": "Yuqun Rodier",
          "emp_no": 39802,
          "from_date": "1990-09-15T00:00:00.000Z",
          "index": 47,
          "to_date": "1990-11-01T00:00:00.000Z"
         },
         {
          "Days_worked": 48,
          "Full_Name": "Leaf Soicher",
          "emp_no": 19135,
          "from_date": "1986-08-21T00:00:00.000Z",
          "index": 48,
          "to_date": "1986-10-08T00:00:00.000Z"
         },
         {
          "Days_worked": 49,
          "Full_Name": "Yoshinari Bugrara",
          "emp_no": 51304,
          "from_date": "1996-01-28T00:00:00.000Z",
          "index": 49,
          "to_date": "1996-03-17T00:00:00.000Z"
         }
        ],
        "schema": {
         "fields": [
          {
           "name": "index",
           "type": "integer"
          },
          {
           "name": "Days_worked",
           "type": "integer"
          },
          {
           "name": "emp_no",
           "type": "integer"
          },
          {
           "name": "Full_Name",
           "type": "string"
          },
          {
           "name": "from_date",
           "type": "datetime",
           "tz": "UTC"
          },
          {
           "name": "to_date",
           "type": "datetime",
           "tz": "UTC"
          }
         ],
         "pandas_version": "0.20.0",
         "primaryKey": [
          "index"
         ]
        }
       },
       "total_rows": 50
      },
      "text/html": [
       "<div>\n",
       "<style scoped>\n",
       "    .dataframe tbody tr th:only-of-type {\n",
       "        vertical-align: middle;\n",
       "    }\n",
       "\n",
       "    .dataframe tbody tr th {\n",
       "        vertical-align: top;\n",
       "    }\n",
       "\n",
       "    .dataframe thead th {\n",
       "        text-align: right;\n",
       "    }\n",
       "</style>\n",
       "<table border=\"1\" class=\"dataframe\">\n",
       "  <thead>\n",
       "    <tr style=\"text-align: right;\">\n",
       "      <th></th>\n",
       "      <th>Days_worked</th>\n",
       "      <th>emp_no</th>\n",
       "      <th>Full_Name</th>\n",
       "      <th>from_date</th>\n",
       "      <th>to_date</th>\n",
       "    </tr>\n",
       "  </thead>\n",
       "  <tbody>\n",
       "    <tr>\n",
       "      <th>0</th>\n",
       "      <td>0</td>\n",
       "      <td>13058</td>\n",
       "      <td>Deborah Jumpertz</td>\n",
       "      <td>2001-07-05 00:00:00+00:00</td>\n",
       "      <td>2001-07-05 00:00:00+00:00</td>\n",
       "    </tr>\n",
       "    <tr>\n",
       "      <th>1</th>\n",
       "      <td>1</td>\n",
       "      <td>14807</td>\n",
       "      <td>Miquel Zweizig</td>\n",
       "      <td>1999-02-13 00:00:00+00:00</td>\n",
       "      <td>1999-02-14 00:00:00+00:00</td>\n",
       "    </tr>\n",
       "    <tr>\n",
       "      <th>2</th>\n",
       "      <td>2</td>\n",
       "      <td>23261</td>\n",
       "      <td>Wayne Barbanera</td>\n",
       "      <td>1999-10-30 00:00:00+00:00</td>\n",
       "      <td>1999-11-01 00:00:00+00:00</td>\n",
       "    </tr>\n",
       "    <tr>\n",
       "      <th>3</th>\n",
       "      <td>3</td>\n",
       "      <td>21304</td>\n",
       "      <td>Serge Cardazo</td>\n",
       "      <td>1997-03-19 00:00:00+00:00</td>\n",
       "      <td>1997-03-22 00:00:00+00:00</td>\n",
       "    </tr>\n",
       "    <tr>\n",
       "      <th>4</th>\n",
       "      <td>4</td>\n",
       "      <td>10765</td>\n",
       "      <td>Goetz Norsworthy</td>\n",
       "      <td>1994-05-07 00:00:00+00:00</td>\n",
       "      <td>1994-05-11 00:00:00+00:00</td>\n",
       "    </tr>\n",
       "    <tr>\n",
       "      <th>5</th>\n",
       "      <td>5</td>\n",
       "      <td>20554</td>\n",
       "      <td>Qunsheng Shumilov</td>\n",
       "      <td>1999-04-15 00:00:00+00:00</td>\n",
       "      <td>1999-04-20 00:00:00+00:00</td>\n",
       "    </tr>\n",
       "    <tr>\n",
       "      <th>6</th>\n",
       "      <td>6</td>\n",
       "      <td>11297</td>\n",
       "      <td>Geraldo Levergood</td>\n",
       "      <td>1991-02-16 00:00:00+00:00</td>\n",
       "      <td>1991-02-22 00:00:00+00:00</td>\n",
       "    </tr>\n",
       "    <tr>\n",
       "      <th>7</th>\n",
       "      <td>7</td>\n",
       "      <td>15396</td>\n",
       "      <td>Marek Erva</td>\n",
       "      <td>1995-04-02 00:00:00+00:00</td>\n",
       "      <td>1995-04-09 00:00:00+00:00</td>\n",
       "    </tr>\n",
       "    <tr>\n",
       "      <th>8</th>\n",
       "      <td>8</td>\n",
       "      <td>13224</td>\n",
       "      <td>Gladys Dichev</td>\n",
       "      <td>1995-12-09 00:00:00+00:00</td>\n",
       "      <td>1995-12-17 00:00:00+00:00</td>\n",
       "    </tr>\n",
       "    <tr>\n",
       "      <th>9</th>\n",
       "      <td>9</td>\n",
       "      <td>13788</td>\n",
       "      <td>Takahira Furedi</td>\n",
       "      <td>1997-04-03 00:00:00+00:00</td>\n",
       "      <td>1997-04-12 00:00:00+00:00</td>\n",
       "    </tr>\n",
       "    <tr>\n",
       "      <th>10</th>\n",
       "      <td>10</td>\n",
       "      <td>12974</td>\n",
       "      <td>Gift Frolund</td>\n",
       "      <td>1994-10-24 00:00:00+00:00</td>\n",
       "      <td>1994-11-03 00:00:00+00:00</td>\n",
       "    </tr>\n",
       "    <tr>\n",
       "      <th>11</th>\n",
       "      <td>11</td>\n",
       "      <td>15194</td>\n",
       "      <td>Jungsoon Rosar</td>\n",
       "      <td>1990-08-21 00:00:00+00:00</td>\n",
       "      <td>1990-09-01 00:00:00+00:00</td>\n",
       "    </tr>\n",
       "    <tr>\n",
       "      <th>12</th>\n",
       "      <td>12</td>\n",
       "      <td>10082</td>\n",
       "      <td>Parviz Lortz</td>\n",
       "      <td>1990-01-03 00:00:00+00:00</td>\n",
       "      <td>1990-01-15 00:00:00+00:00</td>\n",
       "    </tr>\n",
       "    <tr>\n",
       "      <th>13</th>\n",
       "      <td>13</td>\n",
       "      <td>12260</td>\n",
       "      <td>Mokhtar Huttel</td>\n",
       "      <td>1991-04-26 00:00:00+00:00</td>\n",
       "      <td>1991-05-09 00:00:00+00:00</td>\n",
       "    </tr>\n",
       "    <tr>\n",
       "      <th>14</th>\n",
       "      <td>14</td>\n",
       "      <td>18488</td>\n",
       "      <td>Hongzue Lorcy</td>\n",
       "      <td>1995-08-04 00:00:00+00:00</td>\n",
       "      <td>1995-08-18 00:00:00+00:00</td>\n",
       "    </tr>\n",
       "    <tr>\n",
       "      <th>15</th>\n",
       "      <td>15</td>\n",
       "      <td>10316</td>\n",
       "      <td>Christoper Schwaller</td>\n",
       "      <td>1990-12-18 00:00:00+00:00</td>\n",
       "      <td>1991-01-02 00:00:00+00:00</td>\n",
       "    </tr>\n",
       "    <tr>\n",
       "      <th>16</th>\n",
       "      <td>16</td>\n",
       "      <td>11484</td>\n",
       "      <td>Holgard Siepmann</td>\n",
       "      <td>1999-10-06 00:00:00+00:00</td>\n",
       "      <td>1999-10-22 00:00:00+00:00</td>\n",
       "    </tr>\n",
       "    <tr>\n",
       "      <th>17</th>\n",
       "      <td>17</td>\n",
       "      <td>32664</td>\n",
       "      <td>Charmane Pashtan</td>\n",
       "      <td>1990-02-26 00:00:00+00:00</td>\n",
       "      <td>1990-03-15 00:00:00+00:00</td>\n",
       "    </tr>\n",
       "    <tr>\n",
       "      <th>18</th>\n",
       "      <td>18</td>\n",
       "      <td>11131</td>\n",
       "      <td>Weiye Zambonelli</td>\n",
       "      <td>1999-07-14 00:00:00+00:00</td>\n",
       "      <td>1999-08-01 00:00:00+00:00</td>\n",
       "    </tr>\n",
       "    <tr>\n",
       "      <th>19</th>\n",
       "      <td>19</td>\n",
       "      <td>30953</td>\n",
       "      <td>Mototsugu Mukaidono</td>\n",
       "      <td>1996-08-02 00:00:00+00:00</td>\n",
       "      <td>1996-08-21 00:00:00+00:00</td>\n",
       "    </tr>\n",
       "    <tr>\n",
       "      <th>20</th>\n",
       "      <td>20</td>\n",
       "      <td>10073</td>\n",
       "      <td>Shir McClurg</td>\n",
       "      <td>1998-02-02 00:00:00+00:00</td>\n",
       "      <td>1998-02-22 00:00:00+00:00</td>\n",
       "    </tr>\n",
       "    <tr>\n",
       "      <th>21</th>\n",
       "      <td>21</td>\n",
       "      <td>19025</td>\n",
       "      <td>Urs Prenel</td>\n",
       "      <td>1997-12-23 00:00:00+00:00</td>\n",
       "      <td>1998-01-13 00:00:00+00:00</td>\n",
       "    </tr>\n",
       "    <tr>\n",
       "      <th>22</th>\n",
       "      <td>22</td>\n",
       "      <td>22044</td>\n",
       "      <td>Petter Bahi</td>\n",
       "      <td>1997-07-22 00:00:00+00:00</td>\n",
       "      <td>1997-08-13 00:00:00+00:00</td>\n",
       "    </tr>\n",
       "    <tr>\n",
       "      <th>23</th>\n",
       "      <td>23</td>\n",
       "      <td>41157</td>\n",
       "      <td>Jeanne Valiente</td>\n",
       "      <td>1994-04-20 00:00:00+00:00</td>\n",
       "      <td>1994-05-13 00:00:00+00:00</td>\n",
       "    </tr>\n",
       "    <tr>\n",
       "      <th>24</th>\n",
       "      <td>24</td>\n",
       "      <td>27542</td>\n",
       "      <td>Kazuhisa Prampolini</td>\n",
       "      <td>1999-09-03 00:00:00+00:00</td>\n",
       "      <td>1999-09-27 00:00:00+00:00</td>\n",
       "    </tr>\n",
       "    <tr>\n",
       "      <th>25</th>\n",
       "      <td>25</td>\n",
       "      <td>14846</td>\n",
       "      <td>Magy Joslin</td>\n",
       "      <td>1997-05-02 00:00:00+00:00</td>\n",
       "      <td>1997-05-27 00:00:00+00:00</td>\n",
       "    </tr>\n",
       "    <tr>\n",
       "      <th>26</th>\n",
       "      <td>26</td>\n",
       "      <td>10489</td>\n",
       "      <td>Elvia Homond</td>\n",
       "      <td>1989-09-10 00:00:00+00:00</td>\n",
       "      <td>1989-10-06 00:00:00+00:00</td>\n",
       "    </tr>\n",
       "    <tr>\n",
       "      <th>27</th>\n",
       "      <td>27</td>\n",
       "      <td>10985</td>\n",
       "      <td>Chiradeep Furedi</td>\n",
       "      <td>1999-02-11 00:00:00+00:00</td>\n",
       "      <td>1999-03-10 00:00:00+00:00</td>\n",
       "    </tr>\n",
       "    <tr>\n",
       "      <th>28</th>\n",
       "      <td>28</td>\n",
       "      <td>16866</td>\n",
       "      <td>Toney Ratnakar</td>\n",
       "      <td>1998-03-17 00:00:00+00:00</td>\n",
       "      <td>1998-04-14 00:00:00+00:00</td>\n",
       "    </tr>\n",
       "    <tr>\n",
       "      <th>29</th>\n",
       "      <td>29</td>\n",
       "      <td>14315</td>\n",
       "      <td>Baocai Standera</td>\n",
       "      <td>1999-08-26 00:00:00+00:00</td>\n",
       "      <td>1999-09-24 00:00:00+00:00</td>\n",
       "    </tr>\n",
       "    <tr>\n",
       "      <th>30</th>\n",
       "      <td>30</td>\n",
       "      <td>13801</td>\n",
       "      <td>Shih Mayerwieser</td>\n",
       "      <td>1999-05-26 00:00:00+00:00</td>\n",
       "      <td>1999-06-25 00:00:00+00:00</td>\n",
       "    </tr>\n",
       "    <tr>\n",
       "      <th>31</th>\n",
       "      <td>31</td>\n",
       "      <td>11145</td>\n",
       "      <td>Jinxi Baak</td>\n",
       "      <td>1999-04-23 00:00:00+00:00</td>\n",
       "      <td>1999-05-24 00:00:00+00:00</td>\n",
       "    </tr>\n",
       "    <tr>\n",
       "      <th>32</th>\n",
       "      <td>32</td>\n",
       "      <td>18848</td>\n",
       "      <td>Yaghout Pagter</td>\n",
       "      <td>1995-11-23 00:00:00+00:00</td>\n",
       "      <td>1995-12-25 00:00:00+00:00</td>\n",
       "    </tr>\n",
       "    <tr>\n",
       "      <th>33</th>\n",
       "      <td>33</td>\n",
       "      <td>11358</td>\n",
       "      <td>Nevin Petereit</td>\n",
       "      <td>1998-06-02 00:00:00+00:00</td>\n",
       "      <td>1998-07-05 00:00:00+00:00</td>\n",
       "    </tr>\n",
       "    <tr>\n",
       "      <th>34</th>\n",
       "      <td>34</td>\n",
       "      <td>26648</td>\n",
       "      <td>Aral Beznosov</td>\n",
       "      <td>1999-09-20 00:00:00+00:00</td>\n",
       "      <td>1999-10-24 00:00:00+00:00</td>\n",
       "    </tr>\n",
       "    <tr>\n",
       "      <th>35</th>\n",
       "      <td>35</td>\n",
       "      <td>16726</td>\n",
       "      <td>Alenka Gurbaxani</td>\n",
       "      <td>1994-09-30 00:00:00+00:00</td>\n",
       "      <td>1994-11-04 00:00:00+00:00</td>\n",
       "    </tr>\n",
       "    <tr>\n",
       "      <th>36</th>\n",
       "      <td>36</td>\n",
       "      <td>12303</td>\n",
       "      <td>Godehard Braccini</td>\n",
       "      <td>1988-06-13 00:00:00+00:00</td>\n",
       "      <td>1988-07-19 00:00:00+00:00</td>\n",
       "    </tr>\n",
       "    <tr>\n",
       "      <th>37</th>\n",
       "      <td>37</td>\n",
       "      <td>39559</td>\n",
       "      <td>Youssef Shobatake</td>\n",
       "      <td>1997-10-26 00:00:00+00:00</td>\n",
       "      <td>1997-12-02 00:00:00+00:00</td>\n",
       "    </tr>\n",
       "    <tr>\n",
       "      <th>38</th>\n",
       "      <td>38</td>\n",
       "      <td>17091</td>\n",
       "      <td>Gunilla Merkl</td>\n",
       "      <td>1992-02-11 00:00:00+00:00</td>\n",
       "      <td>1992-03-20 00:00:00+00:00</td>\n",
       "    </tr>\n",
       "    <tr>\n",
       "      <th>39</th>\n",
       "      <td>39</td>\n",
       "      <td>15483</td>\n",
       "      <td>Danel Godskesen</td>\n",
       "      <td>1993-09-09 00:00:00+00:00</td>\n",
       "      <td>1993-10-18 00:00:00+00:00</td>\n",
       "    </tr>\n",
       "    <tr>\n",
       "      <th>40</th>\n",
       "      <td>40</td>\n",
       "      <td>28494</td>\n",
       "      <td>Luerbio Ratzlaff</td>\n",
       "      <td>2000-11-04 00:00:00+00:00</td>\n",
       "      <td>2000-12-14 00:00:00+00:00</td>\n",
       "    </tr>\n",
       "    <tr>\n",
       "      <th>41</th>\n",
       "      <td>41</td>\n",
       "      <td>29553</td>\n",
       "      <td>Paddy Ozery</td>\n",
       "      <td>1998-09-09 00:00:00+00:00</td>\n",
       "      <td>1998-10-20 00:00:00+00:00</td>\n",
       "    </tr>\n",
       "    <tr>\n",
       "      <th>42</th>\n",
       "      <td>42</td>\n",
       "      <td>16576</td>\n",
       "      <td>Zhensheng Beidas</td>\n",
       "      <td>1992-03-08 00:00:00+00:00</td>\n",
       "      <td>1992-04-19 00:00:00+00:00</td>\n",
       "    </tr>\n",
       "    <tr>\n",
       "      <th>43</th>\n",
       "      <td>43</td>\n",
       "      <td>21147</td>\n",
       "      <td>Ekawit Demir</td>\n",
       "      <td>2002-03-09 00:00:00+00:00</td>\n",
       "      <td>2002-04-21 00:00:00+00:00</td>\n",
       "    </tr>\n",
       "    <tr>\n",
       "      <th>44</th>\n",
       "      <td>44</td>\n",
       "      <td>23700</td>\n",
       "      <td>Fun Viele</td>\n",
       "      <td>1993-04-27 00:00:00+00:00</td>\n",
       "      <td>1993-06-10 00:00:00+00:00</td>\n",
       "    </tr>\n",
       "    <tr>\n",
       "      <th>45</th>\n",
       "      <td>45</td>\n",
       "      <td>15813</td>\n",
       "      <td>Etsuo Callaway</td>\n",
       "      <td>1997-06-01 00:00:00+00:00</td>\n",
       "      <td>1997-07-16 00:00:00+00:00</td>\n",
       "    </tr>\n",
       "    <tr>\n",
       "      <th>46</th>\n",
       "      <td>46</td>\n",
       "      <td>11477</td>\n",
       "      <td>Fox Narahari</td>\n",
       "      <td>1996-07-28 00:00:00+00:00</td>\n",
       "      <td>1996-09-12 00:00:00+00:00</td>\n",
       "    </tr>\n",
       "    <tr>\n",
       "      <th>47</th>\n",
       "      <td>47</td>\n",
       "      <td>39802</td>\n",
       "      <td>Yuqun Rodier</td>\n",
       "      <td>1990-09-15 00:00:00+00:00</td>\n",
       "      <td>1990-11-01 00:00:00+00:00</td>\n",
       "    </tr>\n",
       "    <tr>\n",
       "      <th>48</th>\n",
       "      <td>48</td>\n",
       "      <td>19135</td>\n",
       "      <td>Leaf Soicher</td>\n",
       "      <td>1986-08-21 00:00:00+00:00</td>\n",
       "      <td>1986-10-08 00:00:00+00:00</td>\n",
       "    </tr>\n",
       "    <tr>\n",
       "      <th>49</th>\n",
       "      <td>49</td>\n",
       "      <td>51304</td>\n",
       "      <td>Yoshinari Bugrara</td>\n",
       "      <td>1996-01-28 00:00:00+00:00</td>\n",
       "      <td>1996-03-17 00:00:00+00:00</td>\n",
       "    </tr>\n",
       "  </tbody>\n",
       "</table>\n",
       "</div>"
      ],
      "text/plain": [
       "    Days_worked  emp_no             Full_Name                 from_date  \\\n",
       "0             0   13058      Deborah Jumpertz 2001-07-05 00:00:00+00:00   \n",
       "1             1   14807        Miquel Zweizig 1999-02-13 00:00:00+00:00   \n",
       "2             2   23261       Wayne Barbanera 1999-10-30 00:00:00+00:00   \n",
       "3             3   21304         Serge Cardazo 1997-03-19 00:00:00+00:00   \n",
       "4             4   10765      Goetz Norsworthy 1994-05-07 00:00:00+00:00   \n",
       "5             5   20554     Qunsheng Shumilov 1999-04-15 00:00:00+00:00   \n",
       "6             6   11297     Geraldo Levergood 1991-02-16 00:00:00+00:00   \n",
       "7             7   15396            Marek Erva 1995-04-02 00:00:00+00:00   \n",
       "8             8   13224         Gladys Dichev 1995-12-09 00:00:00+00:00   \n",
       "9             9   13788       Takahira Furedi 1997-04-03 00:00:00+00:00   \n",
       "10           10   12974          Gift Frolund 1994-10-24 00:00:00+00:00   \n",
       "11           11   15194        Jungsoon Rosar 1990-08-21 00:00:00+00:00   \n",
       "12           12   10082          Parviz Lortz 1990-01-03 00:00:00+00:00   \n",
       "13           13   12260        Mokhtar Huttel 1991-04-26 00:00:00+00:00   \n",
       "14           14   18488         Hongzue Lorcy 1995-08-04 00:00:00+00:00   \n",
       "15           15   10316  Christoper Schwaller 1990-12-18 00:00:00+00:00   \n",
       "16           16   11484      Holgard Siepmann 1999-10-06 00:00:00+00:00   \n",
       "17           17   32664      Charmane Pashtan 1990-02-26 00:00:00+00:00   \n",
       "18           18   11131      Weiye Zambonelli 1999-07-14 00:00:00+00:00   \n",
       "19           19   30953   Mototsugu Mukaidono 1996-08-02 00:00:00+00:00   \n",
       "20           20   10073          Shir McClurg 1998-02-02 00:00:00+00:00   \n",
       "21           21   19025            Urs Prenel 1997-12-23 00:00:00+00:00   \n",
       "22           22   22044           Petter Bahi 1997-07-22 00:00:00+00:00   \n",
       "23           23   41157       Jeanne Valiente 1994-04-20 00:00:00+00:00   \n",
       "24           24   27542   Kazuhisa Prampolini 1999-09-03 00:00:00+00:00   \n",
       "25           25   14846           Magy Joslin 1997-05-02 00:00:00+00:00   \n",
       "26           26   10489          Elvia Homond 1989-09-10 00:00:00+00:00   \n",
       "27           27   10985      Chiradeep Furedi 1999-02-11 00:00:00+00:00   \n",
       "28           28   16866        Toney Ratnakar 1998-03-17 00:00:00+00:00   \n",
       "29           29   14315       Baocai Standera 1999-08-26 00:00:00+00:00   \n",
       "30           30   13801      Shih Mayerwieser 1999-05-26 00:00:00+00:00   \n",
       "31           31   11145            Jinxi Baak 1999-04-23 00:00:00+00:00   \n",
       "32           32   18848        Yaghout Pagter 1995-11-23 00:00:00+00:00   \n",
       "33           33   11358        Nevin Petereit 1998-06-02 00:00:00+00:00   \n",
       "34           34   26648         Aral Beznosov 1999-09-20 00:00:00+00:00   \n",
       "35           35   16726      Alenka Gurbaxani 1994-09-30 00:00:00+00:00   \n",
       "36           36   12303     Godehard Braccini 1988-06-13 00:00:00+00:00   \n",
       "37           37   39559     Youssef Shobatake 1997-10-26 00:00:00+00:00   \n",
       "38           38   17091         Gunilla Merkl 1992-02-11 00:00:00+00:00   \n",
       "39           39   15483       Danel Godskesen 1993-09-09 00:00:00+00:00   \n",
       "40           40   28494      Luerbio Ratzlaff 2000-11-04 00:00:00+00:00   \n",
       "41           41   29553           Paddy Ozery 1998-09-09 00:00:00+00:00   \n",
       "42           42   16576      Zhensheng Beidas 1992-03-08 00:00:00+00:00   \n",
       "43           43   21147          Ekawit Demir 2002-03-09 00:00:00+00:00   \n",
       "44           44   23700             Fun Viele 1993-04-27 00:00:00+00:00   \n",
       "45           45   15813        Etsuo Callaway 1997-06-01 00:00:00+00:00   \n",
       "46           46   11477          Fox Narahari 1996-07-28 00:00:00+00:00   \n",
       "47           47   39802          Yuqun Rodier 1990-09-15 00:00:00+00:00   \n",
       "48           48   19135          Leaf Soicher 1986-08-21 00:00:00+00:00   \n",
       "49           49   51304     Yoshinari Bugrara 1996-01-28 00:00:00+00:00   \n",
       "\n",
       "                     to_date  \n",
       "0  2001-07-05 00:00:00+00:00  \n",
       "1  1999-02-14 00:00:00+00:00  \n",
       "2  1999-11-01 00:00:00+00:00  \n",
       "3  1997-03-22 00:00:00+00:00  \n",
       "4  1994-05-11 00:00:00+00:00  \n",
       "5  1999-04-20 00:00:00+00:00  \n",
       "6  1991-02-22 00:00:00+00:00  \n",
       "7  1995-04-09 00:00:00+00:00  \n",
       "8  1995-12-17 00:00:00+00:00  \n",
       "9  1997-04-12 00:00:00+00:00  \n",
       "10 1994-11-03 00:00:00+00:00  \n",
       "11 1990-09-01 00:00:00+00:00  \n",
       "12 1990-01-15 00:00:00+00:00  \n",
       "13 1991-05-09 00:00:00+00:00  \n",
       "14 1995-08-18 00:00:00+00:00  \n",
       "15 1991-01-02 00:00:00+00:00  \n",
       "16 1999-10-22 00:00:00+00:00  \n",
       "17 1990-03-15 00:00:00+00:00  \n",
       "18 1999-08-01 00:00:00+00:00  \n",
       "19 1996-08-21 00:00:00+00:00  \n",
       "20 1998-02-22 00:00:00+00:00  \n",
       "21 1998-01-13 00:00:00+00:00  \n",
       "22 1997-08-13 00:00:00+00:00  \n",
       "23 1994-05-13 00:00:00+00:00  \n",
       "24 1999-09-27 00:00:00+00:00  \n",
       "25 1997-05-27 00:00:00+00:00  \n",
       "26 1989-10-06 00:00:00+00:00  \n",
       "27 1999-03-10 00:00:00+00:00  \n",
       "28 1998-04-14 00:00:00+00:00  \n",
       "29 1999-09-24 00:00:00+00:00  \n",
       "30 1999-06-25 00:00:00+00:00  \n",
       "31 1999-05-24 00:00:00+00:00  \n",
       "32 1995-12-25 00:00:00+00:00  \n",
       "33 1998-07-05 00:00:00+00:00  \n",
       "34 1999-10-24 00:00:00+00:00  \n",
       "35 1994-11-04 00:00:00+00:00  \n",
       "36 1988-07-19 00:00:00+00:00  \n",
       "37 1997-12-02 00:00:00+00:00  \n",
       "38 1992-03-20 00:00:00+00:00  \n",
       "39 1993-10-18 00:00:00+00:00  \n",
       "40 2000-12-14 00:00:00+00:00  \n",
       "41 1998-10-20 00:00:00+00:00  \n",
       "42 1992-04-19 00:00:00+00:00  \n",
       "43 2002-04-21 00:00:00+00:00  \n",
       "44 1993-06-10 00:00:00+00:00  \n",
       "45 1997-07-16 00:00:00+00:00  \n",
       "46 1996-09-12 00:00:00+00:00  \n",
       "47 1990-11-01 00:00:00+00:00  \n",
       "48 1986-10-08 00:00:00+00:00  \n",
       "49 1996-03-17 00:00:00+00:00  "
      ]
     },
     "execution_count": 9,
     "metadata": {},
     "output_type": "execute_result"
    }
   ],
   "source": [
    "SELECT\n",
    "\tTIMESTAMPDIFF(Day, from_date, to_date) AS Days_worked,\n",
    "    t.emp_no,\n",
    "    CONCAT(e.first_name,' ',e.last_name) AS Full_Name,\n",
    "    t.from_date,\n",
    "    t.to_date\n",
    "FROM\n",
    "\ttitles AS t\n",
    "INNER JOIN\n",
    "\temployees AS e\n",
    "USING (emp_no)\n",
    "GROUP BY\n",
    "\tDays_worked\n",
    "ORDER BY\n",
    "\tDays_worked\n",
    "LIMIT 50;"
   ]
  }
 ],
 "metadata": {
  "colab": {
   "name": "Welcome to DataCamp Workspaces.ipynb",
   "provenance": []
  },
  "editor": "DataCamp Workspace",
  "kernelspec": {
   "display_name": "Python 3 (ipykernel)",
   "language": "python",
   "name": "python3"
  },
  "language_info": {
   "codemirror_mode": {
    "name": "ipython",
    "version": 3
   },
   "file_extension": ".py",
   "mimetype": "text/x-python",
   "name": "python",
   "nbconvert_exporter": "python",
   "pygments_lexer": "ipython3",
   "version": "3.8.10"
  },
  "toc-autonumbering": false,
  "toc-showmarkdowntxt": false
 },
 "nbformat": 4,
 "nbformat_minor": 5
}
